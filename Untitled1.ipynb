{
  "nbformat": 4,
  "nbformat_minor": 0,
  "metadata": {
    "colab": {
      "provenance": [],
      "gpuType": "T4",
      "authorship_tag": "ABX9TyOystHs9OhI6Ug1u2SKoytJ",
      "include_colab_link": true
    },
    "kernelspec": {
      "name": "python3",
      "display_name": "Python 3"
    },
    "language_info": {
      "name": "python"
    },
    "accelerator": "GPU"
  },
  "cells": [
    {
      "cell_type": "markdown",
      "metadata": {
        "id": "view-in-github",
        "colab_type": "text"
      },
      "source": [
        "<a href=\"https://colab.research.google.com/github/hasanyilmazgursoy/Body_AI/blob/master/Untitled1.ipynb\" target=\"_parent\"><img src=\"https://colab.research.google.com/assets/colab-badge.svg\" alt=\"Open In Colab\"/></a>"
      ]
    },
    {
      "cell_type": "code",
      "execution_count": null,
      "metadata": {
        "colab": {
          "base_uri": "https://localhost:8080/"
        },
        "id": "AIzR1SFDjBps",
        "outputId": "6b36d673-304d-4e28-8647-beb7d8b71979"
      },
      "outputs": [
        {
          "output_type": "stream",
          "name": "stdout",
          "text": [
            "Mounted at /content/drive\n"
          ]
        }
      ],
      "source": [
        "from google.colab import drive\n",
        "drive.mount('/content/drive')\n"
      ]
    },
    {
      "cell_type": "code",
      "source": [
        "!pip install ultralytics\n",
        "!pip install torch torchvision torchaudio\n",
        "!pip install opencv-python\n"
      ],
      "metadata": {
        "colab": {
          "base_uri": "https://localhost:8080/"
        },
        "id": "cfUNLpWKls6j",
        "outputId": "05b12a4f-acbe-4f48-f570-fc252da787e2"
      },
      "execution_count": null,
      "outputs": [
        {
          "output_type": "stream",
          "name": "stdout",
          "text": [
            "Collecting ultralytics\n",
            "  Downloading ultralytics-8.3.92-py3-none-any.whl.metadata (35 kB)\n",
            "Requirement already satisfied: numpy<=2.1.1,>=1.23.0 in /usr/local/lib/python3.11/dist-packages (from ultralytics) (2.0.2)\n",
            "Requirement already satisfied: matplotlib>=3.3.0 in /usr/local/lib/python3.11/dist-packages (from ultralytics) (3.10.0)\n",
            "Requirement already satisfied: opencv-python>=4.6.0 in /usr/local/lib/python3.11/dist-packages (from ultralytics) (4.11.0.86)\n",
            "Requirement already satisfied: pillow>=7.1.2 in /usr/local/lib/python3.11/dist-packages (from ultralytics) (11.1.0)\n",
            "Requirement already satisfied: pyyaml>=5.3.1 in /usr/local/lib/python3.11/dist-packages (from ultralytics) (6.0.2)\n",
            "Requirement already satisfied: requests>=2.23.0 in /usr/local/lib/python3.11/dist-packages (from ultralytics) (2.32.3)\n",
            "Requirement already satisfied: scipy>=1.4.1 in /usr/local/lib/python3.11/dist-packages (from ultralytics) (1.14.1)\n",
            "Requirement already satisfied: torch>=1.8.0 in /usr/local/lib/python3.11/dist-packages (from ultralytics) (2.6.0+cu124)\n",
            "Requirement already satisfied: torchvision>=0.9.0 in /usr/local/lib/python3.11/dist-packages (from ultralytics) (0.21.0+cu124)\n",
            "Requirement already satisfied: tqdm>=4.64.0 in /usr/local/lib/python3.11/dist-packages (from ultralytics) (4.67.1)\n",
            "Requirement already satisfied: psutil in /usr/local/lib/python3.11/dist-packages (from ultralytics) (5.9.5)\n",
            "Requirement already satisfied: py-cpuinfo in /usr/local/lib/python3.11/dist-packages (from ultralytics) (9.0.0)\n",
            "Requirement already satisfied: pandas>=1.1.4 in /usr/local/lib/python3.11/dist-packages (from ultralytics) (2.2.2)\n",
            "Requirement already satisfied: seaborn>=0.11.0 in /usr/local/lib/python3.11/dist-packages (from ultralytics) (0.13.2)\n",
            "Collecting ultralytics-thop>=2.0.0 (from ultralytics)\n",
            "  Downloading ultralytics_thop-2.0.14-py3-none-any.whl.metadata (9.4 kB)\n",
            "Requirement already satisfied: contourpy>=1.0.1 in /usr/local/lib/python3.11/dist-packages (from matplotlib>=3.3.0->ultralytics) (1.3.1)\n",
            "Requirement already satisfied: cycler>=0.10 in /usr/local/lib/python3.11/dist-packages (from matplotlib>=3.3.0->ultralytics) (0.12.1)\n",
            "Requirement already satisfied: fonttools>=4.22.0 in /usr/local/lib/python3.11/dist-packages (from matplotlib>=3.3.0->ultralytics) (4.56.0)\n",
            "Requirement already satisfied: kiwisolver>=1.3.1 in /usr/local/lib/python3.11/dist-packages (from matplotlib>=3.3.0->ultralytics) (1.4.8)\n",
            "Requirement already satisfied: packaging>=20.0 in /usr/local/lib/python3.11/dist-packages (from matplotlib>=3.3.0->ultralytics) (24.2)\n",
            "Requirement already satisfied: pyparsing>=2.3.1 in /usr/local/lib/python3.11/dist-packages (from matplotlib>=3.3.0->ultralytics) (3.2.1)\n",
            "Requirement already satisfied: python-dateutil>=2.7 in /usr/local/lib/python3.11/dist-packages (from matplotlib>=3.3.0->ultralytics) (2.8.2)\n",
            "Requirement already satisfied: pytz>=2020.1 in /usr/local/lib/python3.11/dist-packages (from pandas>=1.1.4->ultralytics) (2025.1)\n",
            "Requirement already satisfied: tzdata>=2022.7 in /usr/local/lib/python3.11/dist-packages (from pandas>=1.1.4->ultralytics) (2025.1)\n",
            "Requirement already satisfied: charset-normalizer<4,>=2 in /usr/local/lib/python3.11/dist-packages (from requests>=2.23.0->ultralytics) (3.4.1)\n",
            "Requirement already satisfied: idna<4,>=2.5 in /usr/local/lib/python3.11/dist-packages (from requests>=2.23.0->ultralytics) (3.10)\n",
            "Requirement already satisfied: urllib3<3,>=1.21.1 in /usr/local/lib/python3.11/dist-packages (from requests>=2.23.0->ultralytics) (2.3.0)\n",
            "Requirement already satisfied: certifi>=2017.4.17 in /usr/local/lib/python3.11/dist-packages (from requests>=2.23.0->ultralytics) (2025.1.31)\n",
            "Requirement already satisfied: filelock in /usr/local/lib/python3.11/dist-packages (from torch>=1.8.0->ultralytics) (3.17.0)\n",
            "Requirement already satisfied: typing-extensions>=4.10.0 in /usr/local/lib/python3.11/dist-packages (from torch>=1.8.0->ultralytics) (4.12.2)\n",
            "Requirement already satisfied: networkx in /usr/local/lib/python3.11/dist-packages (from torch>=1.8.0->ultralytics) (3.4.2)\n",
            "Requirement already satisfied: jinja2 in /usr/local/lib/python3.11/dist-packages (from torch>=1.8.0->ultralytics) (3.1.6)\n",
            "Requirement already satisfied: fsspec in /usr/local/lib/python3.11/dist-packages (from torch>=1.8.0->ultralytics) (2024.10.0)\n",
            "Collecting nvidia-cuda-nvrtc-cu12==12.4.127 (from torch>=1.8.0->ultralytics)\n",
            "  Downloading nvidia_cuda_nvrtc_cu12-12.4.127-py3-none-manylinux2014_x86_64.whl.metadata (1.5 kB)\n",
            "Collecting nvidia-cuda-runtime-cu12==12.4.127 (from torch>=1.8.0->ultralytics)\n",
            "  Downloading nvidia_cuda_runtime_cu12-12.4.127-py3-none-manylinux2014_x86_64.whl.metadata (1.5 kB)\n",
            "Collecting nvidia-cuda-cupti-cu12==12.4.127 (from torch>=1.8.0->ultralytics)\n",
            "  Downloading nvidia_cuda_cupti_cu12-12.4.127-py3-none-manylinux2014_x86_64.whl.metadata (1.6 kB)\n",
            "Collecting nvidia-cudnn-cu12==9.1.0.70 (from torch>=1.8.0->ultralytics)\n",
            "  Downloading nvidia_cudnn_cu12-9.1.0.70-py3-none-manylinux2014_x86_64.whl.metadata (1.6 kB)\n",
            "Collecting nvidia-cublas-cu12==12.4.5.8 (from torch>=1.8.0->ultralytics)\n",
            "  Downloading nvidia_cublas_cu12-12.4.5.8-py3-none-manylinux2014_x86_64.whl.metadata (1.5 kB)\n",
            "Collecting nvidia-cufft-cu12==11.2.1.3 (from torch>=1.8.0->ultralytics)\n",
            "  Downloading nvidia_cufft_cu12-11.2.1.3-py3-none-manylinux2014_x86_64.whl.metadata (1.5 kB)\n",
            "Collecting nvidia-curand-cu12==10.3.5.147 (from torch>=1.8.0->ultralytics)\n",
            "  Downloading nvidia_curand_cu12-10.3.5.147-py3-none-manylinux2014_x86_64.whl.metadata (1.5 kB)\n",
            "Collecting nvidia-cusolver-cu12==11.6.1.9 (from torch>=1.8.0->ultralytics)\n",
            "  Downloading nvidia_cusolver_cu12-11.6.1.9-py3-none-manylinux2014_x86_64.whl.metadata (1.6 kB)\n",
            "Collecting nvidia-cusparse-cu12==12.3.1.170 (from torch>=1.8.0->ultralytics)\n",
            "  Downloading nvidia_cusparse_cu12-12.3.1.170-py3-none-manylinux2014_x86_64.whl.metadata (1.6 kB)\n",
            "Requirement already satisfied: nvidia-cusparselt-cu12==0.6.2 in /usr/local/lib/python3.11/dist-packages (from torch>=1.8.0->ultralytics) (0.6.2)\n",
            "Requirement already satisfied: nvidia-nccl-cu12==2.21.5 in /usr/local/lib/python3.11/dist-packages (from torch>=1.8.0->ultralytics) (2.21.5)\n",
            "Requirement already satisfied: nvidia-nvtx-cu12==12.4.127 in /usr/local/lib/python3.11/dist-packages (from torch>=1.8.0->ultralytics) (12.4.127)\n",
            "Collecting nvidia-nvjitlink-cu12==12.4.127 (from torch>=1.8.0->ultralytics)\n",
            "  Downloading nvidia_nvjitlink_cu12-12.4.127-py3-none-manylinux2014_x86_64.whl.metadata (1.5 kB)\n",
            "Requirement already satisfied: triton==3.2.0 in /usr/local/lib/python3.11/dist-packages (from torch>=1.8.0->ultralytics) (3.2.0)\n",
            "Requirement already satisfied: sympy==1.13.1 in /usr/local/lib/python3.11/dist-packages (from torch>=1.8.0->ultralytics) (1.13.1)\n",
            "Requirement already satisfied: mpmath<1.4,>=1.1.0 in /usr/local/lib/python3.11/dist-packages (from sympy==1.13.1->torch>=1.8.0->ultralytics) (1.3.0)\n",
            "Requirement already satisfied: six>=1.5 in /usr/local/lib/python3.11/dist-packages (from python-dateutil>=2.7->matplotlib>=3.3.0->ultralytics) (1.17.0)\n",
            "Requirement already satisfied: MarkupSafe>=2.0 in /usr/local/lib/python3.11/dist-packages (from jinja2->torch>=1.8.0->ultralytics) (3.0.2)\n",
            "Downloading ultralytics-8.3.92-py3-none-any.whl (949 kB)\n",
            "\u001b[2K   \u001b[90m━━━━━━━━━━━━━━━━━━━━━━━━━━━━━━━━━━━━━━━━\u001b[0m \u001b[32m949.3/949.3 kB\u001b[0m \u001b[31m26.0 MB/s\u001b[0m eta \u001b[36m0:00:00\u001b[0m\n",
            "\u001b[?25hDownloading nvidia_cublas_cu12-12.4.5.8-py3-none-manylinux2014_x86_64.whl (363.4 MB)\n",
            "\u001b[2K   \u001b[90m━━━━━━━━━━━━━━━━━━━━━━━━━━━━━━━━━━━━━━━━\u001b[0m \u001b[32m363.4/363.4 MB\u001b[0m \u001b[31m4.0 MB/s\u001b[0m eta \u001b[36m0:00:00\u001b[0m\n",
            "\u001b[?25hDownloading nvidia_cuda_cupti_cu12-12.4.127-py3-none-manylinux2014_x86_64.whl (13.8 MB)\n",
            "\u001b[2K   \u001b[90m━━━━━━━━━━━━━━━━━━━━━━━━━━━━━━━━━━━━━━━━\u001b[0m \u001b[32m13.8/13.8 MB\u001b[0m \u001b[31m110.1 MB/s\u001b[0m eta \u001b[36m0:00:00\u001b[0m\n",
            "\u001b[?25hDownloading nvidia_cuda_nvrtc_cu12-12.4.127-py3-none-manylinux2014_x86_64.whl (24.6 MB)\n",
            "\u001b[2K   \u001b[90m━━━━━━━━━━━━━━━━━━━━━━━━━━━━━━━━━━━━━━━━\u001b[0m \u001b[32m24.6/24.6 MB\u001b[0m \u001b[31m80.8 MB/s\u001b[0m eta \u001b[36m0:00:00\u001b[0m\n",
            "\u001b[?25hDownloading nvidia_cuda_runtime_cu12-12.4.127-py3-none-manylinux2014_x86_64.whl (883 kB)\n",
            "\u001b[2K   \u001b[90m━━━━━━━━━━━━━━━━━━━━━━━━━━━━━━━━━━━━━━━━\u001b[0m \u001b[32m883.7/883.7 kB\u001b[0m \u001b[31m54.0 MB/s\u001b[0m eta \u001b[36m0:00:00\u001b[0m\n",
            "\u001b[?25hDownloading nvidia_cudnn_cu12-9.1.0.70-py3-none-manylinux2014_x86_64.whl (664.8 MB)\n",
            "\u001b[2K   \u001b[90m━━━━━━━━━━━━━━━━━━━━━━━━━━━━━━━━━━━━━━━━\u001b[0m \u001b[32m664.8/664.8 MB\u001b[0m \u001b[31m2.5 MB/s\u001b[0m eta \u001b[36m0:00:00\u001b[0m\n",
            "\u001b[?25hDownloading nvidia_cufft_cu12-11.2.1.3-py3-none-manylinux2014_x86_64.whl (211.5 MB)\n",
            "\u001b[2K   \u001b[90m━━━━━━━━━━━━━━━━━━━━━━━━━━━━━━━━━━━━━━━━\u001b[0m \u001b[32m211.5/211.5 MB\u001b[0m \u001b[31m5.6 MB/s\u001b[0m eta \u001b[36m0:00:00\u001b[0m\n",
            "\u001b[?25hDownloading nvidia_curand_cu12-10.3.5.147-py3-none-manylinux2014_x86_64.whl (56.3 MB)\n",
            "\u001b[2K   \u001b[90m━━━━━━━━━━━━━━━━━━━━━━━━━━━━━━━━━━━━━━━━\u001b[0m \u001b[32m56.3/56.3 MB\u001b[0m \u001b[31m14.3 MB/s\u001b[0m eta \u001b[36m0:00:00\u001b[0m\n",
            "\u001b[?25hDownloading nvidia_cusolver_cu12-11.6.1.9-py3-none-manylinux2014_x86_64.whl (127.9 MB)\n",
            "\u001b[2K   \u001b[90m━━━━━━━━━━━━━━━━━━━━━━━━━━━━━━━━━━━━━━━━\u001b[0m \u001b[32m127.9/127.9 MB\u001b[0m \u001b[31m7.2 MB/s\u001b[0m eta \u001b[36m0:00:00\u001b[0m\n",
            "\u001b[?25hDownloading nvidia_cusparse_cu12-12.3.1.170-py3-none-manylinux2014_x86_64.whl (207.5 MB)\n",
            "\u001b[2K   \u001b[90m━━━━━━━━━━━━━━━━━━━━━━━━━━━━━━━━━━━━━━━━\u001b[0m \u001b[32m207.5/207.5 MB\u001b[0m \u001b[31m5.9 MB/s\u001b[0m eta \u001b[36m0:00:00\u001b[0m\n",
            "\u001b[?25hDownloading nvidia_nvjitlink_cu12-12.4.127-py3-none-manylinux2014_x86_64.whl (21.1 MB)\n",
            "\u001b[2K   \u001b[90m━━━━━━━━━━━━━━━━━━━━━━━━━━━━━━━━━━━━━━━━\u001b[0m \u001b[32m21.1/21.1 MB\u001b[0m \u001b[31m62.6 MB/s\u001b[0m eta \u001b[36m0:00:00\u001b[0m\n",
            "\u001b[?25hDownloading ultralytics_thop-2.0.14-py3-none-any.whl (26 kB)\n",
            "Installing collected packages: nvidia-nvjitlink-cu12, nvidia-curand-cu12, nvidia-cufft-cu12, nvidia-cuda-runtime-cu12, nvidia-cuda-nvrtc-cu12, nvidia-cuda-cupti-cu12, nvidia-cublas-cu12, nvidia-cusparse-cu12, nvidia-cudnn-cu12, nvidia-cusolver-cu12, ultralytics-thop, ultralytics\n",
            "  Attempting uninstall: nvidia-nvjitlink-cu12\n",
            "    Found existing installation: nvidia-nvjitlink-cu12 12.5.82\n",
            "    Uninstalling nvidia-nvjitlink-cu12-12.5.82:\n",
            "      Successfully uninstalled nvidia-nvjitlink-cu12-12.5.82\n",
            "  Attempting uninstall: nvidia-curand-cu12\n",
            "    Found existing installation: nvidia-curand-cu12 10.3.6.82\n",
            "    Uninstalling nvidia-curand-cu12-10.3.6.82:\n",
            "      Successfully uninstalled nvidia-curand-cu12-10.3.6.82\n",
            "  Attempting uninstall: nvidia-cufft-cu12\n",
            "    Found existing installation: nvidia-cufft-cu12 11.2.3.61\n",
            "    Uninstalling nvidia-cufft-cu12-11.2.3.61:\n",
            "      Successfully uninstalled nvidia-cufft-cu12-11.2.3.61\n",
            "  Attempting uninstall: nvidia-cuda-runtime-cu12\n",
            "    Found existing installation: nvidia-cuda-runtime-cu12 12.5.82\n",
            "    Uninstalling nvidia-cuda-runtime-cu12-12.5.82:\n",
            "      Successfully uninstalled nvidia-cuda-runtime-cu12-12.5.82\n",
            "  Attempting uninstall: nvidia-cuda-nvrtc-cu12\n",
            "    Found existing installation: nvidia-cuda-nvrtc-cu12 12.5.82\n",
            "    Uninstalling nvidia-cuda-nvrtc-cu12-12.5.82:\n",
            "      Successfully uninstalled nvidia-cuda-nvrtc-cu12-12.5.82\n",
            "  Attempting uninstall: nvidia-cuda-cupti-cu12\n",
            "    Found existing installation: nvidia-cuda-cupti-cu12 12.5.82\n",
            "    Uninstalling nvidia-cuda-cupti-cu12-12.5.82:\n",
            "      Successfully uninstalled nvidia-cuda-cupti-cu12-12.5.82\n",
            "  Attempting uninstall: nvidia-cublas-cu12\n",
            "    Found existing installation: nvidia-cublas-cu12 12.5.3.2\n",
            "    Uninstalling nvidia-cublas-cu12-12.5.3.2:\n",
            "      Successfully uninstalled nvidia-cublas-cu12-12.5.3.2\n",
            "  Attempting uninstall: nvidia-cusparse-cu12\n",
            "    Found existing installation: nvidia-cusparse-cu12 12.5.1.3\n",
            "    Uninstalling nvidia-cusparse-cu12-12.5.1.3:\n",
            "      Successfully uninstalled nvidia-cusparse-cu12-12.5.1.3\n",
            "  Attempting uninstall: nvidia-cudnn-cu12\n",
            "    Found existing installation: nvidia-cudnn-cu12 9.3.0.75\n",
            "    Uninstalling nvidia-cudnn-cu12-9.3.0.75:\n",
            "      Successfully uninstalled nvidia-cudnn-cu12-9.3.0.75\n",
            "  Attempting uninstall: nvidia-cusolver-cu12\n",
            "    Found existing installation: nvidia-cusolver-cu12 11.6.3.83\n",
            "    Uninstalling nvidia-cusolver-cu12-11.6.3.83:\n",
            "      Successfully uninstalled nvidia-cusolver-cu12-11.6.3.83\n",
            "Successfully installed nvidia-cublas-cu12-12.4.5.8 nvidia-cuda-cupti-cu12-12.4.127 nvidia-cuda-nvrtc-cu12-12.4.127 nvidia-cuda-runtime-cu12-12.4.127 nvidia-cudnn-cu12-9.1.0.70 nvidia-cufft-cu12-11.2.1.3 nvidia-curand-cu12-10.3.5.147 nvidia-cusolver-cu12-11.6.1.9 nvidia-cusparse-cu12-12.3.1.170 nvidia-nvjitlink-cu12-12.4.127 ultralytics-8.3.92 ultralytics-thop-2.0.14\n",
            "Requirement already satisfied: torch in /usr/local/lib/python3.11/dist-packages (2.6.0+cu124)\n",
            "Requirement already satisfied: torchvision in /usr/local/lib/python3.11/dist-packages (0.21.0+cu124)\n",
            "Requirement already satisfied: torchaudio in /usr/local/lib/python3.11/dist-packages (2.6.0+cu124)\n",
            "Requirement already satisfied: filelock in /usr/local/lib/python3.11/dist-packages (from torch) (3.17.0)\n",
            "Requirement already satisfied: typing-extensions>=4.10.0 in /usr/local/lib/python3.11/dist-packages (from torch) (4.12.2)\n",
            "Requirement already satisfied: networkx in /usr/local/lib/python3.11/dist-packages (from torch) (3.4.2)\n",
            "Requirement already satisfied: jinja2 in /usr/local/lib/python3.11/dist-packages (from torch) (3.1.6)\n",
            "Requirement already satisfied: fsspec in /usr/local/lib/python3.11/dist-packages (from torch) (2024.10.0)\n",
            "Requirement already satisfied: nvidia-cuda-nvrtc-cu12==12.4.127 in /usr/local/lib/python3.11/dist-packages (from torch) (12.4.127)\n",
            "Requirement already satisfied: nvidia-cuda-runtime-cu12==12.4.127 in /usr/local/lib/python3.11/dist-packages (from torch) (12.4.127)\n",
            "Requirement already satisfied: nvidia-cuda-cupti-cu12==12.4.127 in /usr/local/lib/python3.11/dist-packages (from torch) (12.4.127)\n",
            "Requirement already satisfied: nvidia-cudnn-cu12==9.1.0.70 in /usr/local/lib/python3.11/dist-packages (from torch) (9.1.0.70)\n",
            "Requirement already satisfied: nvidia-cublas-cu12==12.4.5.8 in /usr/local/lib/python3.11/dist-packages (from torch) (12.4.5.8)\n",
            "Requirement already satisfied: nvidia-cufft-cu12==11.2.1.3 in /usr/local/lib/python3.11/dist-packages (from torch) (11.2.1.3)\n",
            "Requirement already satisfied: nvidia-curand-cu12==10.3.5.147 in /usr/local/lib/python3.11/dist-packages (from torch) (10.3.5.147)\n",
            "Requirement already satisfied: nvidia-cusolver-cu12==11.6.1.9 in /usr/local/lib/python3.11/dist-packages (from torch) (11.6.1.9)\n",
            "Requirement already satisfied: nvidia-cusparse-cu12==12.3.1.170 in /usr/local/lib/python3.11/dist-packages (from torch) (12.3.1.170)\n",
            "Requirement already satisfied: nvidia-cusparselt-cu12==0.6.2 in /usr/local/lib/python3.11/dist-packages (from torch) (0.6.2)\n",
            "Requirement already satisfied: nvidia-nccl-cu12==2.21.5 in /usr/local/lib/python3.11/dist-packages (from torch) (2.21.5)\n",
            "Requirement already satisfied: nvidia-nvtx-cu12==12.4.127 in /usr/local/lib/python3.11/dist-packages (from torch) (12.4.127)\n",
            "Requirement already satisfied: nvidia-nvjitlink-cu12==12.4.127 in /usr/local/lib/python3.11/dist-packages (from torch) (12.4.127)\n",
            "Requirement already satisfied: triton==3.2.0 in /usr/local/lib/python3.11/dist-packages (from torch) (3.2.0)\n",
            "Requirement already satisfied: sympy==1.13.1 in /usr/local/lib/python3.11/dist-packages (from torch) (1.13.1)\n",
            "Requirement already satisfied: mpmath<1.4,>=1.1.0 in /usr/local/lib/python3.11/dist-packages (from sympy==1.13.1->torch) (1.3.0)\n",
            "Requirement already satisfied: numpy in /usr/local/lib/python3.11/dist-packages (from torchvision) (2.0.2)\n",
            "Requirement already satisfied: pillow!=8.3.*,>=5.3.0 in /usr/local/lib/python3.11/dist-packages (from torchvision) (11.1.0)\n",
            "Requirement already satisfied: MarkupSafe>=2.0 in /usr/local/lib/python3.11/dist-packages (from jinja2->torch) (3.0.2)\n",
            "Requirement already satisfied: opencv-python in /usr/local/lib/python3.11/dist-packages (4.11.0.86)\n",
            "Requirement already satisfied: numpy>=1.21.2 in /usr/local/lib/python3.11/dist-packages (from opencv-python) (2.0.2)\n"
          ]
        }
      ]
    },
    {
      "cell_type": "code",
      "source": [
        "import os\n",
        "\n",
        "labels_path = \"/content/drive/My Drive/final_yolo_dataset/labels/train\"\n",
        "\n",
        "for filename in os.listdir(labels_path):\n",
        "    if filename.endswith(\".txt\"):\n",
        "        filepath = os.path.join(labels_path, filename)\n",
        "        with open(filepath, \"r\") as f:\n",
        "            lines = f.readlines()\n",
        "\n",
        "        unique_labels = list(set(lines))  # Aynı satırları kaldır\n",
        "\n",
        "        with open(filepath, \"w\") as f:\n",
        "            f.writelines(unique_labels)\n"
      ],
      "metadata": {
        "id": "XNx1JhQnqyqe"
      },
      "execution_count": null,
      "outputs": []
    },
    {
      "cell_type": "code",
      "source": [
        "file_path = \"/content/drive/My Drive/final_yolo_dataset/labels/val/BATCH_d06_img_1660.txt\"\n",
        "\n",
        "with open(file_path, \"r\") as f:\n",
        "    labels = f.readlines()\n",
        "\n",
        "# Aynı satırdan birden fazla olup olmadığını kontrol et\n",
        "from collections import Counter\n",
        "counter = Counter(labels)\n",
        "\n",
        "for label, count in counter.items():\n",
        "    if count > 1:\n",
        "        print(f\"Duplicate Label: {label.strip()} - {count} times\")\n"
      ],
      "metadata": {
        "colab": {
          "base_uri": "https://localhost:8080/"
        },
        "id": "jXgu3FzKskFv",
        "outputId": "4b1da30d-6e0b-4770-d9ec-b74ca2c02de7"
      },
      "execution_count": null,
      "outputs": [
        {
          "output_type": "stream",
          "name": "stdout",
          "text": [
            "Duplicate Label: 0 0.402734 0.825463 0.015365 0.045370 - 2 times\n",
            "Duplicate Label: 0 0.872526 0.236343 0.017448 0.027315 - 2 times\n",
            "Duplicate Label: 0 0.060026 0.913194 0.017448 0.026389 - 2 times\n",
            "Duplicate Label: 0 0.244141 0.815278 0.030990 0.049074 - 2 times\n",
            "Duplicate Label: 0 0.213411 0.392593 0.046615 0.077778 - 2 times\n",
            "Duplicate Label: 0 0.439453 0.443750 0.017448 0.023611 - 2 times\n",
            "Duplicate Label: 0 0.355729 0.226620 0.016146 0.022685 - 2 times\n",
            "Duplicate Label: 0 0.401953 0.229630 0.019531 0.033333 - 2 times\n",
            "Duplicate Label: 0 0.955078 0.457870 0.051302 0.089815 - 2 times\n"
          ]
        }
      ]
    },
    {
      "cell_type": "code",
      "source": [
        "import os\n",
        "\n",
        "label_dir = \"/content/drive/My Drive/final_yolo_dataset/labels/val\"\n",
        "\n",
        "for filename in os.listdir(label_dir):\n",
        "    if filename.endswith(\".txt\"):\n",
        "        file_path = os.path.join(label_dir, filename)\n",
        "\n",
        "        with open(file_path, \"r\") as f:\n",
        "            lines = f.readlines()\n",
        "\n",
        "        unique_lines = list(set(lines))  # Tekrar edenleri kaldır\n",
        "\n",
        "        if len(lines) != len(unique_lines):  # Değişiklik olmuşsa dosyayı güncelle\n",
        "            with open(file_path, \"w\") as f:\n",
        "                f.writelines(unique_lines)\n",
        "            print(f\"Düzenlendi: {filename}\")\n"
      ],
      "metadata": {
        "colab": {
          "base_uri": "https://localhost:8080/"
        },
        "id": "iV1WidjGssBl",
        "outputId": "6816c54d-3e69-45c3-a419-41ab0fe27dc7"
      },
      "execution_count": null,
      "outputs": [
        {
          "output_type": "stream",
          "name": "stdout",
          "text": [
            "Düzenlendi: batch_02_img_1140.txt\n",
            "Düzenlendi: BATCH_s05_img_5660.txt\n",
            "Düzenlendi: BATCH_s03_img_1040.txt\n",
            "Düzenlendi: aug_batch_01_frame_12.txt\n",
            "Düzenlendi: batch_01_frame_29.txt\n",
            "Düzenlendi: BATCH_d07_img_4610.txt\n",
            "Düzenlendi: BATCH_d08_img_3050.txt\n",
            "Düzenlendi: batch_s02_img_21.txt\n",
            "Düzenlendi: batch_s02_img_27.txt\n",
            "Düzenlendi: BATCH_s04_img_8280.txt\n",
            "Düzenlendi: BATCH_d08_img_820.txt\n",
            "Düzenlendi: BATCH_d07_img_2670.txt\n",
            "Düzenlendi: BATCH_s05_img_6050.txt\n",
            "Düzenlendi: BATCH_s03_img_2220.txt\n",
            "Düzenlendi: batch_01_frame_13.txt\n",
            "Düzenlendi: batch_02_img_2440.txt\n",
            "Düzenlendi: batch_05_img_1440.txt\n",
            "Düzenlendi: BATCH_s04_img_5840.txt\n",
            "Düzenlendi: BATCH_s03_img_1880.txt\n",
            "Düzenlendi: BATCH_s04_img_9600.txt\n",
            "Düzenlendi: BATCH_s05_img_8070.txt\n",
            "Düzenlendi: batch_04_img_140.txt\n",
            "Düzenlendi: BATCH_d08_img_4420.txt\n",
            "Düzenlendi: BATCH_s05_img_9110.txt\n",
            "Düzenlendi: aug_batch_01_frame_13.txt\n",
            "Düzenlendi: BATCH_d08_img_710.txt\n",
            "Düzenlendi: photo_2020-10-23_14-02-00.txt\n",
            "Düzenlendi: BATCH_d07_img_3470.txt\n",
            "Düzenlendi: batch_s02_img_99.txt\n",
            "Düzenlendi: BATCH_d07_img_7260.txt\n",
            "Düzenlendi: batch_01_frame_4.txt\n",
            "Düzenlendi: BATCH_s05_img_9220.txt\n",
            "Düzenlendi: batch_s01_img_2080.txt\n",
            "Düzenlendi: BATCH_s05_img_5230.txt\n",
            "Düzenlendi: batch_05_img_1340.txt\n",
            "Düzenlendi: batch_s01_img_2960.txt\n",
            "Düzenlendi: batch_02_img_720.txt\n",
            "Düzenlendi: BATCH_s05_img_210.txt\n",
            "Düzenlendi: batch_02_img_3600.txt\n",
            "Düzenlendi: batch_s01_img_400.txt\n",
            "Düzenlendi: batch_05_img_5880.txt\n",
            "Düzenlendi: batch_04_img_4140.txt\n",
            "Düzenlendi: BATCH_d07_img_5900.txt\n",
            "Düzenlendi: batch_s01_img_1320.txt\n",
            "Düzenlendi: batch_s02_img_122.txt\n",
            "Düzenlendi: BATCH_d07_img_1010.txt\n",
            "Düzenlendi: batch_04_img_3680.txt\n",
            "Düzenlendi: batch_s02_img_116.txt\n",
            "Düzenlendi: BATCH_d07_img_5020.txt\n",
            "Düzenlendi: BATCH_s04_img_9840.txt\n",
            "Düzenlendi: batch_s01_img_1560.txt\n",
            "Düzenlendi: camera_img_0.txt\n",
            "Düzenlendi: BATCH_d07_img_1160.txt\n",
            "Düzenlendi: BATCH_d07_img_2520.txt\n",
            "Düzenlendi: BATCH_s04_img_1080.txt\n",
            "Düzenlendi: batch_03_img_660.txt\n",
            "Düzenlendi: batch_02_img_1680.txt\n",
            "Düzenlendi: batch_04_img_1780.txt\n",
            "Düzenlendi: BATCH_d07_img_4880.txt\n",
            "Düzenlendi: batch_s01_img_2440.txt\n",
            "Düzenlendi: batch_03_img_3340.txt\n",
            "Düzenlendi: BATCH_d06_img_1660.txt\n",
            "Düzenlendi: BATCH_d08_img_3130.txt\n",
            "Düzenlendi: BATCH_d07_img_2760.txt\n",
            "Düzenlendi: BATCH_d07_img_3380.txt\n",
            "Düzenlendi: batch_s02_img_16.txt\n",
            "Düzenlendi: batch_s01_img_2740.txt\n",
            "Düzenlendi: BATCH_d07_img_610.txt\n",
            "Düzenlendi: BATCH_s03_img_3380.txt\n",
            "Düzenlendi: batch_s02_img_44.txt\n",
            "Düzenlendi: batch_03_img_1280.txt\n",
            "Düzenlendi: BATCH_d08_img_1060.txt\n",
            "Düzenlendi: BATCH_s04_img_7380.txt\n",
            "Düzenlendi: batch_05_img_1080.txt\n",
            "Düzenlendi: batch_s02_img_115.txt\n",
            "Düzenlendi: batch_05_img_4040.txt\n"
          ]
        }
      ]
    },
    {
      "cell_type": "code",
      "source": [
        "from ultralytics import YOLO\n",
        "\n",
        "# En güncel ve yüksek doğruluk odaklı YOLO modelini yükle\n",
        "model = YOLO(\"yolov8x.pt\")  # yüksek doğruluk için 'x' versiyonunu tercih ediyoruz\n",
        "\n",
        "# Modeli eğit\n",
        "model.train(\n",
        "    data=\"/content/drive/My Drive/final_yolo_dataset/data.yaml\",\n",
        "    epochs=50,            # Daha fazla epoch, modelin daha iyi öğrenmesini sağlar\n",
        "    patience=5,           # 5 epoch boyunca gelişme olmazsa erken durdurma\n",
        "    save=True,            # Her durumda en iyi modeli kaydet\n",
        "    save_period=1,        # Her epoch sonunda modeli kaydet\n",
        "    optimizer='AdamW',    # AdamW optimizasyon algoritması\n",
        "    lr0=0.001,            # Başlangıç öğrenme oranı\n",
        "    momentum=0.937,       # Momentum değeri\n",
        "    weight_decay=0.0005,  # Ağırlık azaltma (L2 regularizasyon)\n",
        "    batch=16,             # Batch boyutu (donanım kapasitenize göre ayarlayın)\n",
        "    imgsz=640,            # Giriş görüntü boyutu\n",
        "    augment=True          # Veri artırma aktif\n",
        ")\n"
      ],
      "metadata": {
        "colab": {
          "base_uri": "https://localhost:8080/"
        },
        "id": "aythguYEtpsn",
        "outputId": "ef184704-8db8-471f-8942-2abac8aa9405"
      },
      "execution_count": null,
      "outputs": [
        {
          "output_type": "stream",
          "name": "stdout",
          "text": [
            "Downloading https://github.com/ultralytics/assets/releases/download/v8.3.0/yolov8x.pt to 'yolov8x.pt'...\n"
          ]
        },
        {
          "output_type": "stream",
          "name": "stderr",
          "text": [
            "100%|██████████| 131M/131M [00:00<00:00, 253MB/s]\n"
          ]
        },
        {
          "output_type": "stream",
          "name": "stdout",
          "text": [
            "Ultralytics 8.3.92 🚀 Python-3.11.11 torch-2.6.0+cu124 CUDA:0 (Tesla T4, 15095MiB)\n",
            "\u001b[34m\u001b[1mengine/trainer: \u001b[0mtask=detect, mode=train, model=yolov8x.pt, data=/content/drive/My Drive/final_yolo_dataset/data.yaml, epochs=50, time=None, patience=5, batch=16, imgsz=640, save=True, save_period=1, cache=False, device=None, workers=8, project=None, name=train10, exist_ok=False, pretrained=True, optimizer=AdamW, verbose=True, seed=0, deterministic=True, single_cls=False, rect=False, cos_lr=False, close_mosaic=10, resume=False, amp=True, fraction=1.0, profile=False, freeze=None, multi_scale=False, overlap_mask=True, mask_ratio=4, dropout=0.0, val=True, split=val, save_json=False, save_hybrid=False, conf=None, iou=0.7, max_det=300, half=False, dnn=False, plots=True, source=None, vid_stride=1, stream_buffer=False, visualize=False, augment=True, agnostic_nms=False, classes=None, retina_masks=False, embed=None, show=False, save_frames=False, save_txt=False, save_conf=False, save_crop=False, show_labels=True, show_conf=True, show_boxes=True, line_width=None, format=torchscript, keras=False, optimize=False, int8=False, dynamic=False, simplify=True, opset=None, workspace=None, nms=False, lr0=0.001, lrf=0.01, momentum=0.937, weight_decay=0.0005, warmup_epochs=3.0, warmup_momentum=0.8, warmup_bias_lr=0.1, box=7.5, cls=0.5, dfl=1.5, pose=12.0, kobj=1.0, nbs=64, hsv_h=0.015, hsv_s=0.7, hsv_v=0.4, degrees=0.0, translate=0.1, scale=0.5, shear=0.0, perspective=0.0, flipud=0.0, fliplr=0.5, bgr=0.0, mosaic=1.0, mixup=0.0, copy_paste=0.0, copy_paste_mode=flip, auto_augment=randaugment, erasing=0.4, crop_fraction=1.0, cfg=None, tracker=botsort.yaml, save_dir=runs/detect/train10\n",
            "Overriding model.yaml nc=80 with nc=1\n",
            "\n",
            "                   from  n    params  module                                       arguments                     \n",
            "  0                  -1  1      2320  ultralytics.nn.modules.conv.Conv             [3, 80, 3, 2]                 \n",
            "  1                  -1  1    115520  ultralytics.nn.modules.conv.Conv             [80, 160, 3, 2]               \n",
            "  2                  -1  3    436800  ultralytics.nn.modules.block.C2f             [160, 160, 3, True]           \n",
            "  3                  -1  1    461440  ultralytics.nn.modules.conv.Conv             [160, 320, 3, 2]              \n",
            "  4                  -1  6   3281920  ultralytics.nn.modules.block.C2f             [320, 320, 6, True]           \n",
            "  5                  -1  1   1844480  ultralytics.nn.modules.conv.Conv             [320, 640, 3, 2]              \n",
            "  6                  -1  6  13117440  ultralytics.nn.modules.block.C2f             [640, 640, 6, True]           \n",
            "  7                  -1  1   3687680  ultralytics.nn.modules.conv.Conv             [640, 640, 3, 2]              \n",
            "  8                  -1  3   6969600  ultralytics.nn.modules.block.C2f             [640, 640, 3, True]           \n",
            "  9                  -1  1   1025920  ultralytics.nn.modules.block.SPPF            [640, 640, 5]                 \n",
            " 10                  -1  1         0  torch.nn.modules.upsampling.Upsample         [None, 2, 'nearest']          \n",
            " 11             [-1, 6]  1         0  ultralytics.nn.modules.conv.Concat           [1]                           \n",
            " 12                  -1  3   7379200  ultralytics.nn.modules.block.C2f             [1280, 640, 3]                \n",
            " 13                  -1  1         0  torch.nn.modules.upsampling.Upsample         [None, 2, 'nearest']          \n",
            " 14             [-1, 4]  1         0  ultralytics.nn.modules.conv.Concat           [1]                           \n",
            " 15                  -1  3   1948800  ultralytics.nn.modules.block.C2f             [960, 320, 3]                 \n",
            " 16                  -1  1    922240  ultralytics.nn.modules.conv.Conv             [320, 320, 3, 2]              \n",
            " 17            [-1, 12]  1         0  ultralytics.nn.modules.conv.Concat           [1]                           \n",
            " 18                  -1  3   7174400  ultralytics.nn.modules.block.C2f             [960, 640, 3]                 \n",
            " 19                  -1  1   3687680  ultralytics.nn.modules.conv.Conv             [640, 640, 3, 2]              \n",
            " 20             [-1, 9]  1         0  ultralytics.nn.modules.conv.Concat           [1]                           \n",
            " 21                  -1  3   7379200  ultralytics.nn.modules.block.C2f             [1280, 640, 3]                \n",
            " 22        [15, 18, 21]  1   8718931  ultralytics.nn.modules.head.Detect           [1, [320, 640, 640]]          \n",
            "Model summary: 209 layers, 68,153,571 parameters, 68,153,555 gradients, 258.1 GFLOPs\n",
            "\n",
            "Transferred 589/595 items from pretrained weights\n",
            "\u001b[34m\u001b[1mTensorBoard: \u001b[0mStart with 'tensorboard --logdir runs/detect/train10', view at http://localhost:6006/\n",
            "Freezing layer 'model.22.dfl.conv.weight'\n",
            "\u001b[34m\u001b[1mAMP: \u001b[0mrunning Automatic Mixed Precision (AMP) checks...\n",
            "\u001b[34m\u001b[1mAMP: \u001b[0mchecks passed ✅\n"
          ]
        },
        {
          "output_type": "stream",
          "name": "stderr",
          "text": [
            "\u001b[34m\u001b[1mtrain: \u001b[0mScanning /content/drive/My Drive/final_yolo_dataset/labels/train.cache... 608 images, 33 backgrounds, 0 corrupt: 100%|██████████| 641/641 [00:00<?, ?it/s]"
          ]
        },
        {
          "output_type": "stream",
          "name": "stdout",
          "text": [
            "\u001b[34m\u001b[1malbumentations: \u001b[0mBlur(p=0.01, blur_limit=(3, 7)), MedianBlur(p=0.01, blur_limit=(3, 7)), ToGray(p=0.01, num_output_channels=3, method='weighted_average'), CLAHE(p=0.01, clip_limit=(1.0, 4.0), tile_grid_size=(8, 8))\n"
          ]
        },
        {
          "output_type": "stream",
          "name": "stderr",
          "text": [
            "\n",
            "\u001b[34m\u001b[1mval: \u001b[0mScanning /content/drive/My Drive/final_yolo_dataset/labels/val.cache... 76 images, 4 backgrounds, 0 corrupt: 100%|██████████| 80/80 [00:00<?, ?it/s]\n"
          ]
        },
        {
          "output_type": "stream",
          "name": "stdout",
          "text": [
            "Plotting labels to runs/detect/train10/labels.jpg... \n",
            "\u001b[34m\u001b[1moptimizer:\u001b[0m AdamW(lr=0.001, momentum=0.937) with parameter groups 97 weight(decay=0.0), 104 weight(decay=0.0005), 103 bias(decay=0.0)\n",
            "\u001b[34m\u001b[1mTensorBoard: \u001b[0mmodel graph visualization added ✅\n",
            "Image sizes 640 train, 640 val\n",
            "Using 2 dataloader workers\n",
            "Logging results to \u001b[1mruns/detect/train10\u001b[0m\n",
            "Starting training for 50 epochs...\n",
            "\n",
            "      Epoch    GPU_mem   box_loss   cls_loss   dfl_loss  Instances       Size\n"
          ]
        },
        {
          "output_type": "stream",
          "name": "stderr",
          "text": [
            "       1/50      12.2G      1.521      1.984     0.9366         11        640: 100%|██████████| 41/41 [01:07<00:00,  1.65s/it]\n",
            "                 Class     Images  Instances      Box(P          R      mAP50  mAP50-95): 100%|██████████| 3/3 [00:02<00:00,  1.30it/s]"
          ]
        },
        {
          "output_type": "stream",
          "name": "stdout",
          "text": [
            "                   all         80        313      0.223      0.521      0.176     0.0814\n"
          ]
        },
        {
          "output_type": "stream",
          "name": "stderr",
          "text": [
            "\n"
          ]
        },
        {
          "output_type": "stream",
          "name": "stdout",
          "text": [
            "\n",
            "      Epoch    GPU_mem   box_loss   cls_loss   dfl_loss  Instances       Size\n"
          ]
        },
        {
          "output_type": "stream",
          "name": "stderr",
          "text": [
            "       2/50      13.1G      1.487     0.9822     0.9063          4        640: 100%|██████████| 41/41 [01:06<00:00,  1.61s/it]\n",
            "                 Class     Images  Instances      Box(P          R      mAP50  mAP50-95): 100%|██████████| 3/3 [00:02<00:00,  1.15it/s]"
          ]
        },
        {
          "output_type": "stream",
          "name": "stdout",
          "text": [
            "                   all         80        313   0.000126    0.00958   6.31e-05    2.1e-05\n"
          ]
        },
        {
          "output_type": "stream",
          "name": "stderr",
          "text": [
            "\n"
          ]
        },
        {
          "output_type": "stream",
          "name": "stdout",
          "text": [
            "\n",
            "      Epoch    GPU_mem   box_loss   cls_loss   dfl_loss  Instances       Size\n"
          ]
        },
        {
          "output_type": "stream",
          "name": "stderr",
          "text": [
            "       3/50      13.2G      1.547     0.9646     0.9169         10        640: 100%|██████████| 41/41 [01:04<00:00,  1.57s/it]\n",
            "                 Class     Images  Instances      Box(P          R      mAP50  mAP50-95): 100%|██████████| 3/3 [00:02<00:00,  1.31it/s]"
          ]
        },
        {
          "output_type": "stream",
          "name": "stdout",
          "text": [
            "                   all         80        313     0.0291      0.633      0.022     0.0095\n"
          ]
        },
        {
          "output_type": "stream",
          "name": "stderr",
          "text": [
            "\n"
          ]
        },
        {
          "output_type": "stream",
          "name": "stdout",
          "text": [
            "\n",
            "      Epoch    GPU_mem   box_loss   cls_loss   dfl_loss  Instances       Size\n"
          ]
        },
        {
          "output_type": "stream",
          "name": "stderr",
          "text": [
            "       4/50      13.2G      1.501     0.9508     0.9281          2        640: 100%|██████████| 41/41 [01:06<00:00,  1.61s/it]\n",
            "                 Class     Images  Instances      Box(P          R      mAP50  mAP50-95): 100%|██████████| 3/3 [00:02<00:00,  1.18it/s]"
          ]
        },
        {
          "output_type": "stream",
          "name": "stdout",
          "text": [
            "                   all         80        313      0.574      0.534        0.5      0.232\n"
          ]
        },
        {
          "output_type": "stream",
          "name": "stderr",
          "text": [
            "\n"
          ]
        },
        {
          "output_type": "stream",
          "name": "stdout",
          "text": [
            "\n",
            "      Epoch    GPU_mem   box_loss   cls_loss   dfl_loss  Instances       Size\n"
          ]
        },
        {
          "output_type": "stream",
          "name": "stderr",
          "text": [
            "       5/50      13.8G      1.511     0.9136     0.9284          1        640: 100%|██████████| 41/41 [01:05<00:00,  1.60s/it]\n",
            "                 Class     Images  Instances      Box(P          R      mAP50  mAP50-95): 100%|██████████| 3/3 [00:02<00:00,  1.48it/s]"
          ]
        },
        {
          "output_type": "stream",
          "name": "stdout",
          "text": [
            "                   all         80        313      0.184     0.0703     0.0395     0.0195\n"
          ]
        },
        {
          "output_type": "stream",
          "name": "stderr",
          "text": [
            "\n"
          ]
        },
        {
          "output_type": "stream",
          "name": "stdout",
          "text": [
            "\n",
            "      Epoch    GPU_mem   box_loss   cls_loss   dfl_loss  Instances       Size\n"
          ]
        },
        {
          "output_type": "stream",
          "name": "stderr",
          "text": [
            "       6/50      12.5G      1.478     0.8632      0.907         12        640: 100%|██████████| 41/41 [01:04<00:00,  1.58s/it]\n",
            "                 Class     Images  Instances      Box(P          R      mAP50  mAP50-95): 100%|██████████| 3/3 [00:02<00:00,  1.36it/s]"
          ]
        },
        {
          "output_type": "stream",
          "name": "stdout",
          "text": [
            "                   all         80        313     0.0304      0.633     0.0238     0.0108\n"
          ]
        },
        {
          "output_type": "stream",
          "name": "stderr",
          "text": [
            "\n"
          ]
        },
        {
          "output_type": "stream",
          "name": "stdout",
          "text": [
            "\n",
            "      Epoch    GPU_mem   box_loss   cls_loss   dfl_loss  Instances       Size\n"
          ]
        },
        {
          "output_type": "stream",
          "name": "stderr",
          "text": [
            "       7/50        13G      1.469     0.8767     0.9109         16        640: 100%|██████████| 41/41 [01:06<00:00,  1.63s/it]\n",
            "                 Class     Images  Instances      Box(P          R      mAP50  mAP50-95): 100%|██████████| 3/3 [00:02<00:00,  1.36it/s]"
          ]
        },
        {
          "output_type": "stream",
          "name": "stdout",
          "text": [
            "                   all         80        313      0.727      0.591      0.627      0.309\n"
          ]
        },
        {
          "output_type": "stream",
          "name": "stderr",
          "text": [
            "\n"
          ]
        },
        {
          "output_type": "stream",
          "name": "stdout",
          "text": [
            "\n",
            "      Epoch    GPU_mem   box_loss   cls_loss   dfl_loss  Instances       Size\n"
          ]
        },
        {
          "output_type": "stream",
          "name": "stderr",
          "text": [
            "       8/50        13G      1.461     0.8482     0.9094         10        640: 100%|██████████| 41/41 [01:05<00:00,  1.61s/it]\n",
            "                 Class     Images  Instances      Box(P          R      mAP50  mAP50-95): 100%|██████████| 3/3 [00:02<00:00,  1.24it/s]"
          ]
        },
        {
          "output_type": "stream",
          "name": "stdout",
          "text": [
            "                   all         80        313      0.791      0.555       0.65      0.344\n"
          ]
        },
        {
          "output_type": "stream",
          "name": "stderr",
          "text": [
            "\n"
          ]
        },
        {
          "output_type": "stream",
          "name": "stdout",
          "text": [
            "\n",
            "      Epoch    GPU_mem   box_loss   cls_loss   dfl_loss  Instances       Size\n"
          ]
        },
        {
          "output_type": "stream",
          "name": "stderr",
          "text": [
            "       9/50        13G      1.448     0.8501     0.9128         10        640: 100%|██████████| 41/41 [01:05<00:00,  1.59s/it]\n",
            "                 Class     Images  Instances      Box(P          R      mAP50  mAP50-95): 100%|██████████| 3/3 [00:02<00:00,  1.23it/s]"
          ]
        },
        {
          "output_type": "stream",
          "name": "stdout",
          "text": [
            "                   all         80        313      0.776      0.572      0.659      0.353\n"
          ]
        },
        {
          "output_type": "stream",
          "name": "stderr",
          "text": [
            "\n"
          ]
        },
        {
          "output_type": "stream",
          "name": "stdout",
          "text": [
            "\n",
            "      Epoch    GPU_mem   box_loss   cls_loss   dfl_loss  Instances       Size\n"
          ]
        },
        {
          "output_type": "stream",
          "name": "stderr",
          "text": [
            "      10/50        13G        1.4     0.8004     0.8873          4        640: 100%|██████████| 41/41 [01:04<00:00,  1.57s/it]\n",
            "                 Class     Images  Instances      Box(P          R      mAP50  mAP50-95): 100%|██████████| 3/3 [00:02<00:00,  1.35it/s]"
          ]
        },
        {
          "output_type": "stream",
          "name": "stdout",
          "text": [
            "                   all         80        313      0.754      0.567      0.668      0.339\n"
          ]
        },
        {
          "output_type": "stream",
          "name": "stderr",
          "text": [
            "\n"
          ]
        },
        {
          "output_type": "stream",
          "name": "stdout",
          "text": [
            "\n",
            "      Epoch    GPU_mem   box_loss   cls_loss   dfl_loss  Instances       Size\n"
          ]
        },
        {
          "output_type": "stream",
          "name": "stderr",
          "text": [
            "      11/50      13.1G      1.395     0.8455     0.8694          0        640: 100%|██████████| 41/41 [01:06<00:00,  1.61s/it]\n",
            "                 Class     Images  Instances      Box(P          R      mAP50  mAP50-95): 100%|██████████| 3/3 [00:02<00:00,  1.30it/s]"
          ]
        },
        {
          "output_type": "stream",
          "name": "stdout",
          "text": [
            "                   all         80        313      0.845      0.578        0.7      0.365\n"
          ]
        },
        {
          "output_type": "stream",
          "name": "stderr",
          "text": [
            "\n"
          ]
        },
        {
          "output_type": "stream",
          "name": "stdout",
          "text": [
            "\n",
            "      Epoch    GPU_mem   box_loss   cls_loss   dfl_loss  Instances       Size\n"
          ]
        },
        {
          "output_type": "stream",
          "name": "stderr",
          "text": [
            "      12/50      13.1G      1.377     0.8241     0.8829          2        640: 100%|██████████| 41/41 [01:04<00:00,  1.57s/it]\n",
            "                 Class     Images  Instances      Box(P          R      mAP50  mAP50-95): 100%|██████████| 3/3 [00:02<00:00,  1.12it/s]"
          ]
        },
        {
          "output_type": "stream",
          "name": "stdout",
          "text": [
            "                   all         80        313      0.774      0.612      0.694       0.37\n"
          ]
        },
        {
          "output_type": "stream",
          "name": "stderr",
          "text": [
            "\n"
          ]
        },
        {
          "output_type": "stream",
          "name": "stdout",
          "text": [
            "\n",
            "      Epoch    GPU_mem   box_loss   cls_loss   dfl_loss  Instances       Size\n"
          ]
        },
        {
          "output_type": "stream",
          "name": "stderr",
          "text": [
            "      13/50      13.4G       1.37     0.8002     0.8916         15        640: 100%|██████████| 41/41 [01:04<00:00,  1.57s/it]\n",
            "                 Class     Images  Instances      Box(P          R      mAP50  mAP50-95): 100%|██████████| 3/3 [00:02<00:00,  1.33it/s]"
          ]
        },
        {
          "output_type": "stream",
          "name": "stdout",
          "text": [
            "                   all         80        313      0.756      0.623      0.679      0.341\n"
          ]
        },
        {
          "output_type": "stream",
          "name": "stderr",
          "text": [
            "\n"
          ]
        },
        {
          "output_type": "stream",
          "name": "stdout",
          "text": [
            "\n",
            "      Epoch    GPU_mem   box_loss   cls_loss   dfl_loss  Instances       Size\n"
          ]
        },
        {
          "output_type": "stream",
          "name": "stderr",
          "text": [
            "      14/50      12.5G      1.395     0.7865     0.8807          8        640: 100%|██████████| 41/41 [01:05<00:00,  1.59s/it]\n",
            "                 Class     Images  Instances      Box(P          R      mAP50  mAP50-95): 100%|██████████| 3/3 [00:02<00:00,  1.16it/s]"
          ]
        },
        {
          "output_type": "stream",
          "name": "stdout",
          "text": [
            "                   all         80        313      0.768      0.613       0.69      0.381\n"
          ]
        },
        {
          "output_type": "stream",
          "name": "stderr",
          "text": [
            "\n"
          ]
        },
        {
          "output_type": "stream",
          "name": "stdout",
          "text": [
            "\n",
            "      Epoch    GPU_mem   box_loss   cls_loss   dfl_loss  Instances       Size\n"
          ]
        },
        {
          "output_type": "stream",
          "name": "stderr",
          "text": [
            "      15/50      12.4G       1.32      0.827      0.853          0        640: 100%|██████████| 41/41 [01:05<00:00,  1.60s/it]\n",
            "                 Class     Images  Instances      Box(P          R      mAP50  mAP50-95): 100%|██████████| 3/3 [00:02<00:00,  1.12it/s]"
          ]
        },
        {
          "output_type": "stream",
          "name": "stdout",
          "text": [
            "                   all         80        313      0.833      0.597      0.696       0.38\n"
          ]
        },
        {
          "output_type": "stream",
          "name": "stderr",
          "text": [
            "\n"
          ]
        },
        {
          "output_type": "stream",
          "name": "stdout",
          "text": [
            "\n",
            "      Epoch    GPU_mem   box_loss   cls_loss   dfl_loss  Instances       Size\n"
          ]
        },
        {
          "output_type": "stream",
          "name": "stderr",
          "text": [
            "      16/50      13.3G      1.347     0.7626     0.8918          8        640: 100%|██████████| 41/41 [01:06<00:00,  1.62s/it]\n",
            "                 Class     Images  Instances      Box(P          R      mAP50  mAP50-95): 100%|██████████| 3/3 [00:02<00:00,  1.26it/s]"
          ]
        },
        {
          "output_type": "stream",
          "name": "stdout",
          "text": [
            "                   all         80        313      0.777      0.611      0.703      0.389\n"
          ]
        },
        {
          "output_type": "stream",
          "name": "stderr",
          "text": [
            "\n"
          ]
        },
        {
          "output_type": "stream",
          "name": "stdout",
          "text": [
            "\n",
            "      Epoch    GPU_mem   box_loss   cls_loss   dfl_loss  Instances       Size\n"
          ]
        },
        {
          "output_type": "stream",
          "name": "stderr",
          "text": [
            "      17/50      13.3G      1.319     0.7361     0.8756          2        640: 100%|██████████| 41/41 [01:04<00:00,  1.57s/it]\n",
            "                 Class     Images  Instances      Box(P          R      mAP50  mAP50-95): 100%|██████████| 3/3 [00:02<00:00,  1.25it/s]"
          ]
        },
        {
          "output_type": "stream",
          "name": "stdout",
          "text": [
            "                   all         80        313      0.793      0.625       0.71      0.377\n"
          ]
        },
        {
          "output_type": "stream",
          "name": "stderr",
          "text": [
            "\n"
          ]
        },
        {
          "output_type": "stream",
          "name": "stdout",
          "text": [
            "\n",
            "      Epoch    GPU_mem   box_loss   cls_loss   dfl_loss  Instances       Size\n"
          ]
        },
        {
          "output_type": "stream",
          "name": "stderr",
          "text": [
            "      18/50      12.4G      1.324      0.734      0.881          3        640: 100%|██████████| 41/41 [01:05<00:00,  1.59s/it]\n",
            "                 Class     Images  Instances      Box(P          R      mAP50  mAP50-95): 100%|██████████| 3/3 [00:02<00:00,  1.29it/s]"
          ]
        },
        {
          "output_type": "stream",
          "name": "stdout",
          "text": [
            "                   all         80        313       0.83       0.61       0.71      0.391\n"
          ]
        },
        {
          "output_type": "stream",
          "name": "stderr",
          "text": [
            "\n"
          ]
        },
        {
          "output_type": "stream",
          "name": "stdout",
          "text": [
            "\n",
            "      Epoch    GPU_mem   box_loss   cls_loss   dfl_loss  Instances       Size\n"
          ]
        },
        {
          "output_type": "stream",
          "name": "stderr",
          "text": [
            "      19/50      12.4G      1.292     0.7098     0.8645         12        640: 100%|██████████| 41/41 [01:03<00:00,  1.54s/it]\n",
            "                 Class     Images  Instances      Box(P          R      mAP50  mAP50-95): 100%|██████████| 3/3 [00:02<00:00,  1.05it/s]"
          ]
        },
        {
          "output_type": "stream",
          "name": "stdout",
          "text": [
            "                   all         80        313      0.838      0.594      0.718      0.386\n"
          ]
        },
        {
          "output_type": "stream",
          "name": "stderr",
          "text": [
            "\n"
          ]
        },
        {
          "output_type": "stream",
          "name": "stdout",
          "text": [
            "\n",
            "      Epoch    GPU_mem   box_loss   cls_loss   dfl_loss  Instances       Size\n"
          ]
        },
        {
          "output_type": "stream",
          "name": "stderr",
          "text": [
            "      20/50      13.3G      1.315     0.7409     0.8795         14        640: 100%|██████████| 41/41 [01:05<00:00,  1.59s/it]\n",
            "                 Class     Images  Instances      Box(P          R      mAP50  mAP50-95): 100%|██████████| 3/3 [00:02<00:00,  1.03it/s]"
          ]
        },
        {
          "output_type": "stream",
          "name": "stdout",
          "text": [
            "                   all         80        313      0.765      0.644      0.713      0.399\n"
          ]
        },
        {
          "output_type": "stream",
          "name": "stderr",
          "text": [
            "\n"
          ]
        },
        {
          "output_type": "stream",
          "name": "stdout",
          "text": [
            "\n",
            "      Epoch    GPU_mem   box_loss   cls_loss   dfl_loss  Instances       Size\n"
          ]
        },
        {
          "output_type": "stream",
          "name": "stderr",
          "text": [
            "      21/50      13.3G      1.319     0.7368     0.8714          3        640: 100%|██████████| 41/41 [01:04<00:00,  1.58s/it]\n",
            "                 Class     Images  Instances      Box(P          R      mAP50  mAP50-95): 100%|██████████| 3/3 [00:02<00:00,  1.27it/s]"
          ]
        },
        {
          "output_type": "stream",
          "name": "stdout",
          "text": [
            "                   all         80        313      0.838      0.639      0.723      0.394\n"
          ]
        },
        {
          "output_type": "stream",
          "name": "stderr",
          "text": [
            "\n"
          ]
        },
        {
          "output_type": "stream",
          "name": "stdout",
          "text": [
            "\n",
            "      Epoch    GPU_mem   box_loss   cls_loss   dfl_loss  Instances       Size\n"
          ]
        },
        {
          "output_type": "stream",
          "name": "stderr",
          "text": [
            "      22/50      12.4G      1.299     0.6991     0.8817          8        640: 100%|██████████| 41/41 [01:04<00:00,  1.58s/it]\n",
            "                 Class     Images  Instances      Box(P          R      mAP50  mAP50-95): 100%|██████████| 3/3 [00:03<00:00,  1.00s/it]"
          ]
        },
        {
          "output_type": "stream",
          "name": "stdout",
          "text": [
            "                   all         80        313      0.819      0.623      0.705       0.35\n"
          ]
        },
        {
          "output_type": "stream",
          "name": "stderr",
          "text": [
            "\n"
          ]
        },
        {
          "output_type": "stream",
          "name": "stdout",
          "text": [
            "\n",
            "      Epoch    GPU_mem   box_loss   cls_loss   dfl_loss  Instances       Size\n"
          ]
        },
        {
          "output_type": "stream",
          "name": "stderr",
          "text": [
            "      23/50      13.3G       1.24     0.6893     0.8614          1        640: 100%|██████████| 41/41 [01:05<00:00,  1.59s/it]\n",
            "                 Class     Images  Instances      Box(P          R      mAP50  mAP50-95): 100%|██████████| 3/3 [00:02<00:00,  1.23it/s]"
          ]
        },
        {
          "output_type": "stream",
          "name": "stdout",
          "text": [
            "                   all         80        313      0.824      0.655      0.759      0.409\n"
          ]
        },
        {
          "output_type": "stream",
          "name": "stderr",
          "text": [
            "\n"
          ]
        },
        {
          "output_type": "stream",
          "name": "stdout",
          "text": [
            "\n",
            "      Epoch    GPU_mem   box_loss   cls_loss   dfl_loss  Instances       Size\n"
          ]
        },
        {
          "output_type": "stream",
          "name": "stderr",
          "text": [
            "      24/50      12.1G      1.281     0.6798     0.8686          9        640: 100%|██████████| 41/41 [01:04<00:00,  1.58s/it]\n",
            "                 Class     Images  Instances      Box(P          R      mAP50  mAP50-95): 100%|██████████| 3/3 [00:02<00:00,  1.34it/s]"
          ]
        },
        {
          "output_type": "stream",
          "name": "stdout",
          "text": [
            "                   all         80        313      0.851      0.578      0.714      0.378\n"
          ]
        },
        {
          "output_type": "stream",
          "name": "stderr",
          "text": [
            "\n"
          ]
        },
        {
          "output_type": "stream",
          "name": "stdout",
          "text": [
            "\n",
            "      Epoch    GPU_mem   box_loss   cls_loss   dfl_loss  Instances       Size\n"
          ]
        },
        {
          "output_type": "stream",
          "name": "stderr",
          "text": [
            "      25/50      13.1G      1.236     0.6634     0.8595          2        640: 100%|██████████| 41/41 [01:04<00:00,  1.58s/it]\n",
            "                 Class     Images  Instances      Box(P          R      mAP50  mAP50-95): 100%|██████████| 3/3 [00:02<00:00,  1.21it/s]"
          ]
        },
        {
          "output_type": "stream",
          "name": "stdout",
          "text": [
            "                   all         80        313      0.811      0.645      0.741      0.417\n"
          ]
        },
        {
          "output_type": "stream",
          "name": "stderr",
          "text": [
            "\n"
          ]
        },
        {
          "output_type": "stream",
          "name": "stdout",
          "text": [
            "\n",
            "      Epoch    GPU_mem   box_loss   cls_loss   dfl_loss  Instances       Size\n"
          ]
        },
        {
          "output_type": "stream",
          "name": "stderr",
          "text": [
            "      26/50      13.1G      1.275     0.6691     0.8619          7        640: 100%|██████████| 41/41 [01:03<00:00,  1.56s/it]\n",
            "                 Class     Images  Instances      Box(P          R      mAP50  mAP50-95): 100%|██████████| 3/3 [00:02<00:00,  1.06it/s]"
          ]
        },
        {
          "output_type": "stream",
          "name": "stdout",
          "text": [
            "                   all         80        313      0.822      0.668      0.761      0.432\n"
          ]
        },
        {
          "output_type": "stream",
          "name": "stderr",
          "text": [
            "\n"
          ]
        },
        {
          "output_type": "stream",
          "name": "stdout",
          "text": [
            "\n",
            "      Epoch    GPU_mem   box_loss   cls_loss   dfl_loss  Instances       Size\n"
          ]
        },
        {
          "output_type": "stream",
          "name": "stderr",
          "text": [
            "      27/50      13.1G      1.213     0.6278     0.8523          4        640: 100%|██████████| 41/41 [01:04<00:00,  1.56s/it]\n",
            "                 Class     Images  Instances      Box(P          R      mAP50  mAP50-95): 100%|██████████| 3/3 [00:02<00:00,  1.13it/s]"
          ]
        },
        {
          "output_type": "stream",
          "name": "stdout",
          "text": [
            "                   all         80        313      0.777      0.645      0.727      0.401\n"
          ]
        },
        {
          "output_type": "stream",
          "name": "stderr",
          "text": [
            "\n"
          ]
        },
        {
          "output_type": "stream",
          "name": "stdout",
          "text": [
            "\n",
            "      Epoch    GPU_mem   box_loss   cls_loss   dfl_loss  Instances       Size\n"
          ]
        },
        {
          "output_type": "stream",
          "name": "stderr",
          "text": [
            "      28/50      13.1G      1.205     0.6496     0.8519         18        640: 100%|██████████| 41/41 [01:06<00:00,  1.61s/it]\n",
            "                 Class     Images  Instances      Box(P          R      mAP50  mAP50-95): 100%|██████████| 3/3 [00:02<00:00,  1.30it/s]"
          ]
        },
        {
          "output_type": "stream",
          "name": "stdout",
          "text": [
            "                   all         80        313      0.855      0.649      0.765      0.425\n"
          ]
        },
        {
          "output_type": "stream",
          "name": "stderr",
          "text": [
            "\n"
          ]
        },
        {
          "output_type": "stream",
          "name": "stdout",
          "text": [
            "\n",
            "      Epoch    GPU_mem   box_loss   cls_loss   dfl_loss  Instances       Size\n"
          ]
        },
        {
          "output_type": "stream",
          "name": "stderr",
          "text": [
            "      29/50      13.2G      1.207     0.6285     0.8515          2        640: 100%|██████████| 41/41 [01:04<00:00,  1.57s/it]\n",
            "                 Class     Images  Instances      Box(P          R      mAP50  mAP50-95): 100%|██████████| 3/3 [00:02<00:00,  1.17it/s]"
          ]
        },
        {
          "output_type": "stream",
          "name": "stdout",
          "text": [
            "                   all         80        313      0.798      0.665      0.747      0.426\n"
          ]
        },
        {
          "output_type": "stream",
          "name": "stderr",
          "text": [
            "\n"
          ]
        },
        {
          "output_type": "stream",
          "name": "stdout",
          "text": [
            "\n",
            "      Epoch    GPU_mem   box_loss   cls_loss   dfl_loss  Instances       Size\n"
          ]
        },
        {
          "output_type": "stream",
          "name": "stderr",
          "text": [
            "      30/50      13.4G      1.228     0.6498     0.8493         15        640: 100%|██████████| 41/41 [01:03<00:00,  1.54s/it]\n",
            "                 Class     Images  Instances      Box(P          R      mAP50  mAP50-95): 100%|██████████| 3/3 [00:02<00:00,  1.21it/s]"
          ]
        },
        {
          "output_type": "stream",
          "name": "stdout",
          "text": [
            "                   all         80        313      0.825      0.646      0.738      0.423\n"
          ]
        },
        {
          "output_type": "stream",
          "name": "stderr",
          "text": [
            "\n"
          ]
        },
        {
          "output_type": "stream",
          "name": "stdout",
          "text": [
            "\n",
            "      Epoch    GPU_mem   box_loss   cls_loss   dfl_loss  Instances       Size\n"
          ]
        },
        {
          "output_type": "stream",
          "name": "stderr",
          "text": [
            "      31/50      12.5G      1.182     0.6362     0.8398          5        640: 100%|██████████| 41/41 [01:02<00:00,  1.52s/it]\n",
            "                 Class     Images  Instances      Box(P          R      mAP50  mAP50-95): 100%|██████████| 3/3 [00:02<00:00,  1.01it/s]"
          ]
        },
        {
          "output_type": "stream",
          "name": "stdout",
          "text": [
            "                   all         80        313      0.837      0.639      0.734      0.408\n",
            "\u001b[34m\u001b[1mEarlyStopping: \u001b[0mTraining stopped early as no improvement observed in last 5 epochs. Best results observed at epoch 26, best model saved as best.pt.\n",
            "To update EarlyStopping(patience=5) pass a new patience value, i.e. `patience=300` or use `patience=0` to disable EarlyStopping.\n"
          ]
        },
        {
          "output_type": "stream",
          "name": "stderr",
          "text": [
            "\n"
          ]
        },
        {
          "output_type": "stream",
          "name": "stdout",
          "text": [
            "\n",
            "31 epochs completed in 0.740 hours.\n",
            "Optimizer stripped from runs/detect/train10/weights/last.pt, 136.7MB\n",
            "Optimizer stripped from runs/detect/train10/weights/best.pt, 136.7MB\n",
            "\n",
            "Validating runs/detect/train10/weights/best.pt...\n",
            "Ultralytics 8.3.92 🚀 Python-3.11.11 torch-2.6.0+cu124 CUDA:0 (Tesla T4, 15095MiB)\n",
            "Model summary (fused): 112 layers, 68,124,531 parameters, 0 gradients, 257.4 GFLOPs\n"
          ]
        },
        {
          "output_type": "stream",
          "name": "stderr",
          "text": [
            "                 Class     Images  Instances      Box(P          R      mAP50  mAP50-95): 100%|██████████| 3/3 [00:04<00:00,  1.49s/it]\n"
          ]
        },
        {
          "output_type": "stream",
          "name": "stdout",
          "text": [
            "                   all         80        313      0.807      0.666      0.764      0.427\n",
            "Speed: 0.1ms preprocess, 45.4ms inference, 0.0ms loss, 2.6ms postprocess per image\n",
            "Results saved to \u001b[1mruns/detect/train10\u001b[0m\n"
          ]
        },
        {
          "output_type": "execute_result",
          "data": {
            "text/plain": [
              "ultralytics.utils.metrics.DetMetrics object with attributes:\n",
              "\n",
              "ap_class_index: array([0])\n",
              "box: ultralytics.utils.metrics.Metric object\n",
              "confusion_matrix: <ultralytics.utils.metrics.ConfusionMatrix object at 0x7f66a8b582d0>\n",
              "curves: ['Precision-Recall(B)', 'F1-Confidence(B)', 'Precision-Confidence(B)', 'Recall-Confidence(B)']\n",
              "curves_results: [[array([          0,    0.001001,    0.002002,    0.003003,    0.004004,    0.005005,    0.006006,    0.007007,    0.008008,    0.009009,     0.01001,    0.011011,    0.012012,    0.013013,    0.014014,    0.015015,    0.016016,    0.017017,    0.018018,    0.019019,     0.02002,    0.021021,    0.022022,    0.023023,\n",
              "          0.024024,    0.025025,    0.026026,    0.027027,    0.028028,    0.029029,     0.03003,    0.031031,    0.032032,    0.033033,    0.034034,    0.035035,    0.036036,    0.037037,    0.038038,    0.039039,     0.04004,    0.041041,    0.042042,    0.043043,    0.044044,    0.045045,    0.046046,    0.047047,\n",
              "          0.048048,    0.049049,     0.05005,    0.051051,    0.052052,    0.053053,    0.054054,    0.055055,    0.056056,    0.057057,    0.058058,    0.059059,     0.06006,    0.061061,    0.062062,    0.063063,    0.064064,    0.065065,    0.066066,    0.067067,    0.068068,    0.069069,     0.07007,    0.071071,\n",
              "          0.072072,    0.073073,    0.074074,    0.075075,    0.076076,    0.077077,    0.078078,    0.079079,     0.08008,    0.081081,    0.082082,    0.083083,    0.084084,    0.085085,    0.086086,    0.087087,    0.088088,    0.089089,     0.09009,    0.091091,    0.092092,    0.093093,    0.094094,    0.095095,\n",
              "          0.096096,    0.097097,    0.098098,    0.099099,      0.1001,      0.1011,      0.1021,      0.1031,      0.1041,     0.10511,     0.10611,     0.10711,     0.10811,     0.10911,     0.11011,     0.11111,     0.11211,     0.11311,     0.11411,     0.11512,     0.11612,     0.11712,     0.11812,     0.11912,\n",
              "           0.12012,     0.12112,     0.12212,     0.12312,     0.12412,     0.12513,     0.12613,     0.12713,     0.12813,     0.12913,     0.13013,     0.13113,     0.13213,     0.13313,     0.13413,     0.13514,     0.13614,     0.13714,     0.13814,     0.13914,     0.14014,     0.14114,     0.14214,     0.14314,\n",
              "           0.14414,     0.14515,     0.14615,     0.14715,     0.14815,     0.14915,     0.15015,     0.15115,     0.15215,     0.15315,     0.15415,     0.15516,     0.15616,     0.15716,     0.15816,     0.15916,     0.16016,     0.16116,     0.16216,     0.16316,     0.16416,     0.16517,     0.16617,     0.16717,\n",
              "           0.16817,     0.16917,     0.17017,     0.17117,     0.17217,     0.17317,     0.17417,     0.17518,     0.17618,     0.17718,     0.17818,     0.17918,     0.18018,     0.18118,     0.18218,     0.18318,     0.18418,     0.18519,     0.18619,     0.18719,     0.18819,     0.18919,     0.19019,     0.19119,\n",
              "           0.19219,     0.19319,     0.19419,      0.1952,      0.1962,      0.1972,      0.1982,      0.1992,      0.2002,      0.2012,      0.2022,      0.2032,      0.2042,     0.20521,     0.20621,     0.20721,     0.20821,     0.20921,     0.21021,     0.21121,     0.21221,     0.21321,     0.21421,     0.21522,\n",
              "           0.21622,     0.21722,     0.21822,     0.21922,     0.22022,     0.22122,     0.22222,     0.22322,     0.22422,     0.22523,     0.22623,     0.22723,     0.22823,     0.22923,     0.23023,     0.23123,     0.23223,     0.23323,     0.23423,     0.23524,     0.23624,     0.23724,     0.23824,     0.23924,\n",
              "           0.24024,     0.24124,     0.24224,     0.24324,     0.24424,     0.24525,     0.24625,     0.24725,     0.24825,     0.24925,     0.25025,     0.25125,     0.25225,     0.25325,     0.25425,     0.25526,     0.25626,     0.25726,     0.25826,     0.25926,     0.26026,     0.26126,     0.26226,     0.26326,\n",
              "           0.26426,     0.26527,     0.26627,     0.26727,     0.26827,     0.26927,     0.27027,     0.27127,     0.27227,     0.27327,     0.27427,     0.27528,     0.27628,     0.27728,     0.27828,     0.27928,     0.28028,     0.28128,     0.28228,     0.28328,     0.28428,     0.28529,     0.28629,     0.28729,\n",
              "           0.28829,     0.28929,     0.29029,     0.29129,     0.29229,     0.29329,     0.29429,      0.2953,      0.2963,      0.2973,      0.2983,      0.2993,      0.3003,      0.3013,      0.3023,      0.3033,      0.3043,     0.30531,     0.30631,     0.30731,     0.30831,     0.30931,     0.31031,     0.31131,\n",
              "           0.31231,     0.31331,     0.31431,     0.31532,     0.31632,     0.31732,     0.31832,     0.31932,     0.32032,     0.32132,     0.32232,     0.32332,     0.32432,     0.32533,     0.32633,     0.32733,     0.32833,     0.32933,     0.33033,     0.33133,     0.33233,     0.33333,     0.33433,     0.33534,\n",
              "           0.33634,     0.33734,     0.33834,     0.33934,     0.34034,     0.34134,     0.34234,     0.34334,     0.34434,     0.34535,     0.34635,     0.34735,     0.34835,     0.34935,     0.35035,     0.35135,     0.35235,     0.35335,     0.35435,     0.35536,     0.35636,     0.35736,     0.35836,     0.35936,\n",
              "           0.36036,     0.36136,     0.36236,     0.36336,     0.36436,     0.36537,     0.36637,     0.36737,     0.36837,     0.36937,     0.37037,     0.37137,     0.37237,     0.37337,     0.37437,     0.37538,     0.37638,     0.37738,     0.37838,     0.37938,     0.38038,     0.38138,     0.38238,     0.38338,\n",
              "           0.38438,     0.38539,     0.38639,     0.38739,     0.38839,     0.38939,     0.39039,     0.39139,     0.39239,     0.39339,     0.39439,      0.3954,      0.3964,      0.3974,      0.3984,      0.3994,      0.4004,      0.4014,      0.4024,      0.4034,      0.4044,     0.40541,     0.40641,     0.40741,\n",
              "           0.40841,     0.40941,     0.41041,     0.41141,     0.41241,     0.41341,     0.41441,     0.41542,     0.41642,     0.41742,     0.41842,     0.41942,     0.42042,     0.42142,     0.42242,     0.42342,     0.42442,     0.42543,     0.42643,     0.42743,     0.42843,     0.42943,     0.43043,     0.43143,\n",
              "           0.43243,     0.43343,     0.43443,     0.43544,     0.43644,     0.43744,     0.43844,     0.43944,     0.44044,     0.44144,     0.44244,     0.44344,     0.44444,     0.44545,     0.44645,     0.44745,     0.44845,     0.44945,     0.45045,     0.45145,     0.45245,     0.45345,     0.45445,     0.45546,\n",
              "           0.45646,     0.45746,     0.45846,     0.45946,     0.46046,     0.46146,     0.46246,     0.46346,     0.46446,     0.46547,     0.46647,     0.46747,     0.46847,     0.46947,     0.47047,     0.47147,     0.47247,     0.47347,     0.47447,     0.47548,     0.47648,     0.47748,     0.47848,     0.47948,\n",
              "           0.48048,     0.48148,     0.48248,     0.48348,     0.48448,     0.48549,     0.48649,     0.48749,     0.48849,     0.48949,     0.49049,     0.49149,     0.49249,     0.49349,     0.49449,      0.4955,      0.4965,      0.4975,      0.4985,      0.4995,      0.5005,      0.5015,      0.5025,      0.5035,\n",
              "            0.5045,     0.50551,     0.50651,     0.50751,     0.50851,     0.50951,     0.51051,     0.51151,     0.51251,     0.51351,     0.51451,     0.51552,     0.51652,     0.51752,     0.51852,     0.51952,     0.52052,     0.52152,     0.52252,     0.52352,     0.52452,     0.52553,     0.52653,     0.52753,\n",
              "           0.52853,     0.52953,     0.53053,     0.53153,     0.53253,     0.53353,     0.53453,     0.53554,     0.53654,     0.53754,     0.53854,     0.53954,     0.54054,     0.54154,     0.54254,     0.54354,     0.54454,     0.54555,     0.54655,     0.54755,     0.54855,     0.54955,     0.55055,     0.55155,\n",
              "           0.55255,     0.55355,     0.55455,     0.55556,     0.55656,     0.55756,     0.55856,     0.55956,     0.56056,     0.56156,     0.56256,     0.56356,     0.56456,     0.56557,     0.56657,     0.56757,     0.56857,     0.56957,     0.57057,     0.57157,     0.57257,     0.57357,     0.57457,     0.57558,\n",
              "           0.57658,     0.57758,     0.57858,     0.57958,     0.58058,     0.58158,     0.58258,     0.58358,     0.58458,     0.58559,     0.58659,     0.58759,     0.58859,     0.58959,     0.59059,     0.59159,     0.59259,     0.59359,     0.59459,      0.5956,      0.5966,      0.5976,      0.5986,      0.5996,\n",
              "            0.6006,      0.6016,      0.6026,      0.6036,      0.6046,     0.60561,     0.60661,     0.60761,     0.60861,     0.60961,     0.61061,     0.61161,     0.61261,     0.61361,     0.61461,     0.61562,     0.61662,     0.61762,     0.61862,     0.61962,     0.62062,     0.62162,     0.62262,     0.62362,\n",
              "           0.62462,     0.62563,     0.62663,     0.62763,     0.62863,     0.62963,     0.63063,     0.63163,     0.63263,     0.63363,     0.63463,     0.63564,     0.63664,     0.63764,     0.63864,     0.63964,     0.64064,     0.64164,     0.64264,     0.64364,     0.64464,     0.64565,     0.64665,     0.64765,\n",
              "           0.64865,     0.64965,     0.65065,     0.65165,     0.65265,     0.65365,     0.65465,     0.65566,     0.65666,     0.65766,     0.65866,     0.65966,     0.66066,     0.66166,     0.66266,     0.66366,     0.66466,     0.66567,     0.66667,     0.66767,     0.66867,     0.66967,     0.67067,     0.67167,\n",
              "           0.67267,     0.67367,     0.67467,     0.67568,     0.67668,     0.67768,     0.67868,     0.67968,     0.68068,     0.68168,     0.68268,     0.68368,     0.68468,     0.68569,     0.68669,     0.68769,     0.68869,     0.68969,     0.69069,     0.69169,     0.69269,     0.69369,     0.69469,      0.6957,\n",
              "            0.6967,      0.6977,      0.6987,      0.6997,      0.7007,      0.7017,      0.7027,      0.7037,      0.7047,     0.70571,     0.70671,     0.70771,     0.70871,     0.70971,     0.71071,     0.71171,     0.71271,     0.71371,     0.71471,     0.71572,     0.71672,     0.71772,     0.71872,     0.71972,\n",
              "           0.72072,     0.72172,     0.72272,     0.72372,     0.72472,     0.72573,     0.72673,     0.72773,     0.72873,     0.72973,     0.73073,     0.73173,     0.73273,     0.73373,     0.73473,     0.73574,     0.73674,     0.73774,     0.73874,     0.73974,     0.74074,     0.74174,     0.74274,     0.74374,\n",
              "           0.74474,     0.74575,     0.74675,     0.74775,     0.74875,     0.74975,     0.75075,     0.75175,     0.75275,     0.75375,     0.75475,     0.75576,     0.75676,     0.75776,     0.75876,     0.75976,     0.76076,     0.76176,     0.76276,     0.76376,     0.76476,     0.76577,     0.76677,     0.76777,\n",
              "           0.76877,     0.76977,     0.77077,     0.77177,     0.77277,     0.77377,     0.77477,     0.77578,     0.77678,     0.77778,     0.77878,     0.77978,     0.78078,     0.78178,     0.78278,     0.78378,     0.78478,     0.78579,     0.78679,     0.78779,     0.78879,     0.78979,     0.79079,     0.79179,\n",
              "           0.79279,     0.79379,     0.79479,      0.7958,      0.7968,      0.7978,      0.7988,      0.7998,      0.8008,      0.8018,      0.8028,      0.8038,      0.8048,     0.80581,     0.80681,     0.80781,     0.80881,     0.80981,     0.81081,     0.81181,     0.81281,     0.81381,     0.81481,     0.81582,\n",
              "           0.81682,     0.81782,     0.81882,     0.81982,     0.82082,     0.82182,     0.82282,     0.82382,     0.82482,     0.82583,     0.82683,     0.82783,     0.82883,     0.82983,     0.83083,     0.83183,     0.83283,     0.83383,     0.83483,     0.83584,     0.83684,     0.83784,     0.83884,     0.83984,\n",
              "           0.84084,     0.84184,     0.84284,     0.84384,     0.84484,     0.84585,     0.84685,     0.84785,     0.84885,     0.84985,     0.85085,     0.85185,     0.85285,     0.85385,     0.85485,     0.85586,     0.85686,     0.85786,     0.85886,     0.85986,     0.86086,     0.86186,     0.86286,     0.86386,\n",
              "           0.86486,     0.86587,     0.86687,     0.86787,     0.86887,     0.86987,     0.87087,     0.87187,     0.87287,     0.87387,     0.87487,     0.87588,     0.87688,     0.87788,     0.87888,     0.87988,     0.88088,     0.88188,     0.88288,     0.88388,     0.88488,     0.88589,     0.88689,     0.88789,\n",
              "           0.88889,     0.88989,     0.89089,     0.89189,     0.89289,     0.89389,     0.89489,      0.8959,      0.8969,      0.8979,      0.8989,      0.8999,      0.9009,      0.9019,      0.9029,      0.9039,      0.9049,     0.90591,     0.90691,     0.90791,     0.90891,     0.90991,     0.91091,     0.91191,\n",
              "           0.91291,     0.91391,     0.91491,     0.91592,     0.91692,     0.91792,     0.91892,     0.91992,     0.92092,     0.92192,     0.92292,     0.92392,     0.92492,     0.92593,     0.92693,     0.92793,     0.92893,     0.92993,     0.93093,     0.93193,     0.93293,     0.93393,     0.93493,     0.93594,\n",
              "           0.93694,     0.93794,     0.93894,     0.93994,     0.94094,     0.94194,     0.94294,     0.94394,     0.94494,     0.94595,     0.94695,     0.94795,     0.94895,     0.94995,     0.95095,     0.95195,     0.95295,     0.95395,     0.95495,     0.95596,     0.95696,     0.95796,     0.95896,     0.95996,\n",
              "           0.96096,     0.96196,     0.96296,     0.96396,     0.96496,     0.96597,     0.96697,     0.96797,     0.96897,     0.96997,     0.97097,     0.97197,     0.97297,     0.97397,     0.97497,     0.97598,     0.97698,     0.97798,     0.97898,     0.97998,     0.98098,     0.98198,     0.98298,     0.98398,\n",
              "           0.98498,     0.98599,     0.98699,     0.98799,     0.98899,     0.98999,     0.99099,     0.99199,     0.99299,     0.99399,     0.99499,       0.996,       0.997,       0.998,       0.999,           1]), array([[          1,           1,           1,           1,           1,           1,           1,           1,           1,           1,           1,           1,           1,           1,           1,           1,           1,           1,           1,           1,           1,           1,           1,\n",
              "                  1,           1,           1,           1,           1,           1,           1,           1,           1,           1,           1,           1,           1,           1,           1,           1,           1,           1,           1,           1,           1,           1,           1,\n",
              "                  1,           1,           1,           1,           1,           1,           1,           1,           1,           1,           1,           1,           1,           1,           1,           1,           1,           1,           1,           1,           1,           1,           1,\n",
              "                  1,           1,           1,           1,           1,           1,           1,           1,           1,           1,           1,           1,           1,           1,           1,           1,           1,           1,           1,           1,           1,           1,           1,\n",
              "                  1,           1,           1,           1,           1,           1,           1,           1,           1,           1,           1,           1,           1,           1,           1,           1,           1,           1,           1,           1,           1,           1,           1,\n",
              "                  1,           1,           1,           1,           1,           1,           1,           1,           1,           1,           1,           1,           1,           1,           1,           1,           1,           1,           1,           1,           1,           1,           1,\n",
              "                  1,           1,           1,           1,           1,           1,           1,           1,           1,           1,           1,           1,           1,           1,           1,           1,           1,           1,           1,           1,           1,           1,           1,\n",
              "                  1,           1,           1,           1,           1,           1,           1,           1,           1,     0.98947,     0.98947,     0.98947,     0.98947,     0.98947,     0.98947,     0.98947,     0.98947,     0.98947,     0.98947,     0.98947,     0.98947,     0.98947,     0.98947,\n",
              "            0.98947,     0.98947,     0.98947,     0.98947,     0.98947,     0.98947,     0.98947,     0.98947,     0.98947,     0.98947,     0.98947,     0.98947,     0.98947,     0.98947,     0.98947,     0.98947,     0.98947,     0.98947,     0.98947,     0.98947,     0.98947,     0.98947,     0.98947,\n",
              "            0.98947,     0.98947,     0.98947,     0.98947,     0.98947,     0.98947,     0.98947,     0.98947,     0.98947,     0.98947,     0.98947,     0.98947,     0.98947,     0.98947,     0.98947,     0.98947,     0.98947,     0.98947,     0.98947,     0.98947,     0.98947,     0.98947,     0.98947,\n",
              "            0.98947,     0.98947,     0.98947,     0.98947,     0.98947,     0.98947,     0.98947,     0.98947,     0.98947,     0.98947,     0.98947,     0.98947,     0.98947,     0.98947,     0.98947,     0.98947,     0.98947,     0.98947,     0.98947,     0.98947,     0.98947,     0.98947,     0.98947,\n",
              "            0.98947,     0.98947,     0.98947,     0.98947,     0.98947,     0.98947,     0.98947,     0.98947,     0.98947,     0.98947,     0.98947,     0.98947,     0.98947,     0.98947,     0.98947,     0.98947,     0.98947,     0.98947,     0.98947,     0.98947,     0.98947,     0.98947,     0.98947,\n",
              "            0.98947,     0.98947,     0.98947,     0.98947,     0.98947,     0.98947,     0.98947,     0.98947,     0.98947,     0.98947,     0.98947,     0.98947,     0.98947,     0.98947,     0.98947,     0.98947,     0.98947,     0.98947,     0.98947,     0.98947,     0.98947,     0.98947,     0.98947,\n",
              "            0.98947,     0.98947,     0.98077,     0.98077,     0.98077,     0.98077,     0.98077,     0.98077,     0.98077,     0.98077,     0.98077,     0.98077,     0.98077,     0.98077,     0.98077,     0.98077,     0.98077,     0.98077,     0.98077,     0.98077,     0.98077,     0.98077,     0.98077,\n",
              "            0.98077,     0.98077,     0.98077,     0.98077,     0.97273,     0.97273,     0.97273,     0.97273,     0.97273,     0.97273,     0.97273,     0.97273,     0.97273,     0.97273,     0.97273,     0.97273,     0.97273,     0.97273,     0.97273,     0.97273,      0.9661,      0.9661,      0.9661,\n",
              "             0.9661,      0.9661,      0.9661,      0.9661,      0.9661,      0.9661,      0.9661,      0.9661,      0.9661,      0.9661,      0.9661,      0.9661,      0.9661,      0.9661,      0.9661,      0.9661,      0.9661,      0.9661,      0.9661,        0.96,        0.96,        0.96,        0.96,\n",
              "               0.96,        0.96,        0.96,        0.96,        0.96,        0.96,        0.96,        0.96,        0.96,        0.96,        0.96,        0.96,        0.96,        0.96,        0.96,        0.96,     0.95349,     0.95349,     0.95349,     0.95349,     0.95349,     0.95349,     0.95349,\n",
              "            0.95349,     0.95349,      0.9527,      0.9527,      0.9527,      0.9527,      0.9527,      0.9527,      0.9527,      0.9527,      0.9527,      0.9527,      0.9527,      0.9527,      0.9527,      0.9527,      0.9527,      0.9527,      0.9527,      0.9527,      0.9527,      0.9527,      0.9527,\n",
              "             0.9527,      0.9527,      0.9527,      0.9527,      0.9527,      0.9527,      0.9527,      0.9527,      0.9527,      0.9527,      0.9527,      0.9527,      0.9527,      0.9527,      0.9527,      0.9527,      0.9527,      0.9527,      0.9527,      0.9527,      0.9527,      0.9527,      0.9527,\n",
              "             0.9527,      0.9527,      0.9527,      0.9527,      0.9527,      0.9527,      0.9527,      0.9527,      0.9527,      0.9527,      0.9527,      0.9527,      0.9527,      0.9527,     0.93711,     0.93711,     0.93711,     0.93711,     0.93711,     0.93711,     0.93711,     0.93711,     0.93711,\n",
              "            0.93711,     0.93711,     0.93711,     0.93711,     0.93711,     0.93711,     0.93711,     0.93711,     0.93711,     0.93711,     0.93711,     0.93711,     0.93711,     0.93711,     0.93711,     0.93711,     0.92814,     0.92814,     0.92814,     0.92814,     0.92814,     0.92814,     0.92814,\n",
              "            0.92814,     0.92814,     0.92814,     0.92814,     0.92814,     0.92814,     0.92814,     0.92814,     0.92814,     0.92814,     0.92814,     0.92814,     0.92045,     0.92045,     0.92045,     0.92045,     0.92045,     0.92045,     0.92045,     0.92045,     0.92045,     0.92045,     0.92045,\n",
              "            0.92045,     0.92045,     0.92045,     0.92045,     0.92045,     0.92045,     0.92045,     0.92045,     0.92045,     0.92045,     0.92045,     0.92045,      0.9162,      0.9162,      0.9162,      0.9162,      0.9162,      0.9162,     0.91304,     0.91304,     0.91304,     0.91304,     0.91304,\n",
              "            0.91304,     0.91304,     0.91304,     0.91304,     0.91304,     0.91304,     0.91304,     0.91304,     0.90526,     0.90526,     0.90526,     0.90526,     0.90526,     0.90526,     0.90526,     0.90526,     0.90526,     0.90526,     0.90526,     0.90526,     0.89744,     0.89744,     0.89744,\n",
              "            0.89744,     0.89744,     0.89744,     0.89744,     0.89744,     0.89744,     0.89744,     0.88889,     0.88889,     0.88889,     0.88293,     0.88293,     0.88293,     0.88293,     0.88293,     0.88293,     0.88293,     0.88293,     0.88293,     0.88293,     0.88293,     0.88293,     0.88293,\n",
              "            0.88293,     0.88293,     0.88293,      0.8756,      0.8756,      0.8756,      0.8756,      0.8756,      0.8756,      0.8756,     0.87204,     0.87204,     0.87204,     0.87156,     0.87156,     0.87156,     0.87156,     0.87156,     0.87156,     0.87156,     0.87156,     0.87156,     0.87156,\n",
              "            0.87156,     0.87156,     0.87156,     0.87156,     0.87156,     0.87156,     0.87156,     0.87156,     0.87156,     0.86937,     0.86937,     0.86937,     0.86937,     0.86937,     0.86937,     0.86937,     0.86937,     0.86937,     0.85841,     0.85841,     0.85841,     0.85841,     0.85153,\n",
              "            0.85153,     0.85153,     0.85106,     0.85106,     0.85106,     0.85106,     0.85106,     0.85106,     0.85106,     0.85106,     0.85106,     0.85106,     0.85106,     0.85106,     0.85106,     0.85106,     0.85106,     0.85106,        0.85,        0.85,        0.85,        0.85,        0.85,\n",
              "               0.85,        0.85,        0.85,        0.85,        0.85,        0.85,        0.85,        0.85,     0.84082,     0.84082,     0.84082,     0.84082,     0.84082,     0.84082,     0.82213,     0.82213,     0.82213,     0.82213,     0.82213,     0.82213,     0.80695,     0.80695,     0.80695,\n",
              "            0.80695,     0.80075,     0.80075,     0.80075,     0.80075,     0.80075,     0.80075,     0.80075,     0.80075,     0.80075,     0.80075,     0.80075,     0.80075,     0.78967,     0.78967,     0.78967,     0.78967,     0.78755,     0.78755,     0.78755,     0.78058,     0.78058,     0.78058,\n",
              "            0.78058,     0.78058,     0.78058,     0.76761,     0.76761,     0.76761,     0.76307,     0.76307,     0.76307,     0.75862,     0.75862,     0.75862,     0.75862,        0.75,        0.75,        0.75,        0.75,        0.75,        0.75,     0.74582,     0.74582,     0.74582,     0.72727,\n",
              "            0.72727,     0.72727,     0.71519,     0.71519,     0.71519,     0.71519,     0.71519,     0.71519,     0.71519,     0.70279,     0.70279,     0.70279,     0.69939,     0.69939,     0.69939,     0.69394,     0.69394,     0.69394,     0.69277,     0.69277,     0.69277,     0.69277,     0.68546,\n",
              "            0.68546,     0.68546,     0.66382,     0.66382,     0.66382,     0.66382,     0.66382,     0.66382,      0.6573,      0.6573,      0.6573,     0.65278,     0.65278,     0.65278,     0.65278,     0.64835,     0.64835,     0.64835,     0.60769,     0.60769,     0.60769,     0.60406,     0.60406,\n",
              "            0.60406,     0.59305,     0.59305,     0.59305,     0.58537,     0.58537,     0.58537,     0.58537,     0.58173,     0.58173,     0.58173,     0.58173,     0.58173,     0.58173,     0.57311,     0.57311,     0.57311,     0.55581,     0.55581,     0.55581,     0.53478,     0.53478,     0.53478,\n",
              "            0.53478,     0.53478,     0.53478,     0.53478,     0.50511,     0.50511,     0.50511,     0.49699,     0.49699,     0.49699,     0.48728,     0.48728,     0.48728,     0.46816,     0.46816,     0.46816,     0.46765,     0.46765,     0.46765,     0.46765,     0.46765,     0.46765,     0.46765,\n",
              "            0.46765,     0.46765,     0.46765,     0.46098,     0.46098,     0.46098,     0.46029,     0.46029,     0.46029,     0.45961,     0.45961,     0.45961,     0.45961,     0.45811,     0.45811,     0.45811,     0.45583,     0.45583,     0.45583,     0.45201,     0.45201,     0.45201,     0.44983,\n",
              "            0.44983,     0.44983,     0.44162,     0.44162,     0.44162,     0.44162,     0.43471,     0.43471,     0.43471,     0.43471,     0.43471,     0.43471,     0.42376,     0.42376,     0.42376,     0.41022,     0.41022,     0.41022,     0.39407,     0.39407,     0.39407,     0.37291,     0.37291,\n",
              "            0.37291,     0.37291,     0.37171,     0.37171,     0.37171,     0.35441,     0.35441,     0.35441,     0.35387,     0.35387,     0.35387,     0.28112,     0.28112,     0.28112,     0.24395,     0.24395,     0.24395,     0.24395,     0.23393,     0.23393,     0.23393,      0.2291,      0.2291,\n",
              "             0.2291,     0.22746,     0.22746,     0.22746,     0.21085,     0.21085,     0.21085,     0.19971,     0.19971,     0.19971,     0.19971,     0.19172,     0.19172,     0.19172,     0.18082,     0.18082,     0.18082,     0.15846,     0.15846,     0.15846,     0.14029,     0.14029,     0.14029,\n",
              "            0.11253,     0.11253,     0.11253,     0.11253,     0.11159,     0.11159,     0.11159,     0.10881,     0.10881,     0.10881,     0.10371,     0.10371,     0.10371,    0.074499,    0.074499,    0.074499,    0.067355,    0.067355,    0.067355,    0.067355,    0.061226,    0.060479,    0.059732,\n",
              "           0.058986,    0.058239,    0.057492,    0.056746,    0.055999,    0.055252,    0.054506,    0.053759,    0.053012,    0.052266,    0.051519,    0.050772,    0.050026,    0.049279,    0.048532,    0.047786,    0.047039,    0.046292,    0.045546,    0.044799,    0.044053,    0.043306,    0.042559,\n",
              "           0.041813,    0.041066,    0.040319,    0.039573,    0.038826,    0.038079,    0.037333,    0.036586,    0.035839,    0.035093,    0.034346,    0.033599,    0.032853,    0.032106,    0.031359,    0.030613,    0.029866,    0.029119,    0.028373,    0.027626,     0.02688,    0.026133,    0.025386,\n",
              "            0.02464,    0.023893,    0.023146,      0.0224,    0.021653,    0.020906,     0.02016,    0.019413,    0.018666,     0.01792,    0.017173,    0.016426,     0.01568,    0.014933,    0.014186,     0.01344,    0.012693,    0.011946,      0.0112,    0.010453,   0.0097065,   0.0089598,   0.0082132,\n",
              "          0.0074665,   0.0067199,   0.0059732,   0.0052266,   0.0044799,   0.0037333,   0.0029866,     0.00224,   0.0014933,  0.00074665,           0]]), 'Recall', 'Precision'], [array([          0,    0.001001,    0.002002,    0.003003,    0.004004,    0.005005,    0.006006,    0.007007,    0.008008,    0.009009,     0.01001,    0.011011,    0.012012,    0.013013,    0.014014,    0.015015,    0.016016,    0.017017,    0.018018,    0.019019,     0.02002,    0.021021,    0.022022,    0.023023,\n",
              "          0.024024,    0.025025,    0.026026,    0.027027,    0.028028,    0.029029,     0.03003,    0.031031,    0.032032,    0.033033,    0.034034,    0.035035,    0.036036,    0.037037,    0.038038,    0.039039,     0.04004,    0.041041,    0.042042,    0.043043,    0.044044,    0.045045,    0.046046,    0.047047,\n",
              "          0.048048,    0.049049,     0.05005,    0.051051,    0.052052,    0.053053,    0.054054,    0.055055,    0.056056,    0.057057,    0.058058,    0.059059,     0.06006,    0.061061,    0.062062,    0.063063,    0.064064,    0.065065,    0.066066,    0.067067,    0.068068,    0.069069,     0.07007,    0.071071,\n",
              "          0.072072,    0.073073,    0.074074,    0.075075,    0.076076,    0.077077,    0.078078,    0.079079,     0.08008,    0.081081,    0.082082,    0.083083,    0.084084,    0.085085,    0.086086,    0.087087,    0.088088,    0.089089,     0.09009,    0.091091,    0.092092,    0.093093,    0.094094,    0.095095,\n",
              "          0.096096,    0.097097,    0.098098,    0.099099,      0.1001,      0.1011,      0.1021,      0.1031,      0.1041,     0.10511,     0.10611,     0.10711,     0.10811,     0.10911,     0.11011,     0.11111,     0.11211,     0.11311,     0.11411,     0.11512,     0.11612,     0.11712,     0.11812,     0.11912,\n",
              "           0.12012,     0.12112,     0.12212,     0.12312,     0.12412,     0.12513,     0.12613,     0.12713,     0.12813,     0.12913,     0.13013,     0.13113,     0.13213,     0.13313,     0.13413,     0.13514,     0.13614,     0.13714,     0.13814,     0.13914,     0.14014,     0.14114,     0.14214,     0.14314,\n",
              "           0.14414,     0.14515,     0.14615,     0.14715,     0.14815,     0.14915,     0.15015,     0.15115,     0.15215,     0.15315,     0.15415,     0.15516,     0.15616,     0.15716,     0.15816,     0.15916,     0.16016,     0.16116,     0.16216,     0.16316,     0.16416,     0.16517,     0.16617,     0.16717,\n",
              "           0.16817,     0.16917,     0.17017,     0.17117,     0.17217,     0.17317,     0.17417,     0.17518,     0.17618,     0.17718,     0.17818,     0.17918,     0.18018,     0.18118,     0.18218,     0.18318,     0.18418,     0.18519,     0.18619,     0.18719,     0.18819,     0.18919,     0.19019,     0.19119,\n",
              "           0.19219,     0.19319,     0.19419,      0.1952,      0.1962,      0.1972,      0.1982,      0.1992,      0.2002,      0.2012,      0.2022,      0.2032,      0.2042,     0.20521,     0.20621,     0.20721,     0.20821,     0.20921,     0.21021,     0.21121,     0.21221,     0.21321,     0.21421,     0.21522,\n",
              "           0.21622,     0.21722,     0.21822,     0.21922,     0.22022,     0.22122,     0.22222,     0.22322,     0.22422,     0.22523,     0.22623,     0.22723,     0.22823,     0.22923,     0.23023,     0.23123,     0.23223,     0.23323,     0.23423,     0.23524,     0.23624,     0.23724,     0.23824,     0.23924,\n",
              "           0.24024,     0.24124,     0.24224,     0.24324,     0.24424,     0.24525,     0.24625,     0.24725,     0.24825,     0.24925,     0.25025,     0.25125,     0.25225,     0.25325,     0.25425,     0.25526,     0.25626,     0.25726,     0.25826,     0.25926,     0.26026,     0.26126,     0.26226,     0.26326,\n",
              "           0.26426,     0.26527,     0.26627,     0.26727,     0.26827,     0.26927,     0.27027,     0.27127,     0.27227,     0.27327,     0.27427,     0.27528,     0.27628,     0.27728,     0.27828,     0.27928,     0.28028,     0.28128,     0.28228,     0.28328,     0.28428,     0.28529,     0.28629,     0.28729,\n",
              "           0.28829,     0.28929,     0.29029,     0.29129,     0.29229,     0.29329,     0.29429,      0.2953,      0.2963,      0.2973,      0.2983,      0.2993,      0.3003,      0.3013,      0.3023,      0.3033,      0.3043,     0.30531,     0.30631,     0.30731,     0.30831,     0.30931,     0.31031,     0.31131,\n",
              "           0.31231,     0.31331,     0.31431,     0.31532,     0.31632,     0.31732,     0.31832,     0.31932,     0.32032,     0.32132,     0.32232,     0.32332,     0.32432,     0.32533,     0.32633,     0.32733,     0.32833,     0.32933,     0.33033,     0.33133,     0.33233,     0.33333,     0.33433,     0.33534,\n",
              "           0.33634,     0.33734,     0.33834,     0.33934,     0.34034,     0.34134,     0.34234,     0.34334,     0.34434,     0.34535,     0.34635,     0.34735,     0.34835,     0.34935,     0.35035,     0.35135,     0.35235,     0.35335,     0.35435,     0.35536,     0.35636,     0.35736,     0.35836,     0.35936,\n",
              "           0.36036,     0.36136,     0.36236,     0.36336,     0.36436,     0.36537,     0.36637,     0.36737,     0.36837,     0.36937,     0.37037,     0.37137,     0.37237,     0.37337,     0.37437,     0.37538,     0.37638,     0.37738,     0.37838,     0.37938,     0.38038,     0.38138,     0.38238,     0.38338,\n",
              "           0.38438,     0.38539,     0.38639,     0.38739,     0.38839,     0.38939,     0.39039,     0.39139,     0.39239,     0.39339,     0.39439,      0.3954,      0.3964,      0.3974,      0.3984,      0.3994,      0.4004,      0.4014,      0.4024,      0.4034,      0.4044,     0.40541,     0.40641,     0.40741,\n",
              "           0.40841,     0.40941,     0.41041,     0.41141,     0.41241,     0.41341,     0.41441,     0.41542,     0.41642,     0.41742,     0.41842,     0.41942,     0.42042,     0.42142,     0.42242,     0.42342,     0.42442,     0.42543,     0.42643,     0.42743,     0.42843,     0.42943,     0.43043,     0.43143,\n",
              "           0.43243,     0.43343,     0.43443,     0.43544,     0.43644,     0.43744,     0.43844,     0.43944,     0.44044,     0.44144,     0.44244,     0.44344,     0.44444,     0.44545,     0.44645,     0.44745,     0.44845,     0.44945,     0.45045,     0.45145,     0.45245,     0.45345,     0.45445,     0.45546,\n",
              "           0.45646,     0.45746,     0.45846,     0.45946,     0.46046,     0.46146,     0.46246,     0.46346,     0.46446,     0.46547,     0.46647,     0.46747,     0.46847,     0.46947,     0.47047,     0.47147,     0.47247,     0.47347,     0.47447,     0.47548,     0.47648,     0.47748,     0.47848,     0.47948,\n",
              "           0.48048,     0.48148,     0.48248,     0.48348,     0.48448,     0.48549,     0.48649,     0.48749,     0.48849,     0.48949,     0.49049,     0.49149,     0.49249,     0.49349,     0.49449,      0.4955,      0.4965,      0.4975,      0.4985,      0.4995,      0.5005,      0.5015,      0.5025,      0.5035,\n",
              "            0.5045,     0.50551,     0.50651,     0.50751,     0.50851,     0.50951,     0.51051,     0.51151,     0.51251,     0.51351,     0.51451,     0.51552,     0.51652,     0.51752,     0.51852,     0.51952,     0.52052,     0.52152,     0.52252,     0.52352,     0.52452,     0.52553,     0.52653,     0.52753,\n",
              "           0.52853,     0.52953,     0.53053,     0.53153,     0.53253,     0.53353,     0.53453,     0.53554,     0.53654,     0.53754,     0.53854,     0.53954,     0.54054,     0.54154,     0.54254,     0.54354,     0.54454,     0.54555,     0.54655,     0.54755,     0.54855,     0.54955,     0.55055,     0.55155,\n",
              "           0.55255,     0.55355,     0.55455,     0.55556,     0.55656,     0.55756,     0.55856,     0.55956,     0.56056,     0.56156,     0.56256,     0.56356,     0.56456,     0.56557,     0.56657,     0.56757,     0.56857,     0.56957,     0.57057,     0.57157,     0.57257,     0.57357,     0.57457,     0.57558,\n",
              "           0.57658,     0.57758,     0.57858,     0.57958,     0.58058,     0.58158,     0.58258,     0.58358,     0.58458,     0.58559,     0.58659,     0.58759,     0.58859,     0.58959,     0.59059,     0.59159,     0.59259,     0.59359,     0.59459,      0.5956,      0.5966,      0.5976,      0.5986,      0.5996,\n",
              "            0.6006,      0.6016,      0.6026,      0.6036,      0.6046,     0.60561,     0.60661,     0.60761,     0.60861,     0.60961,     0.61061,     0.61161,     0.61261,     0.61361,     0.61461,     0.61562,     0.61662,     0.61762,     0.61862,     0.61962,     0.62062,     0.62162,     0.62262,     0.62362,\n",
              "           0.62462,     0.62563,     0.62663,     0.62763,     0.62863,     0.62963,     0.63063,     0.63163,     0.63263,     0.63363,     0.63463,     0.63564,     0.63664,     0.63764,     0.63864,     0.63964,     0.64064,     0.64164,     0.64264,     0.64364,     0.64464,     0.64565,     0.64665,     0.64765,\n",
              "           0.64865,     0.64965,     0.65065,     0.65165,     0.65265,     0.65365,     0.65465,     0.65566,     0.65666,     0.65766,     0.65866,     0.65966,     0.66066,     0.66166,     0.66266,     0.66366,     0.66466,     0.66567,     0.66667,     0.66767,     0.66867,     0.66967,     0.67067,     0.67167,\n",
              "           0.67267,     0.67367,     0.67467,     0.67568,     0.67668,     0.67768,     0.67868,     0.67968,     0.68068,     0.68168,     0.68268,     0.68368,     0.68468,     0.68569,     0.68669,     0.68769,     0.68869,     0.68969,     0.69069,     0.69169,     0.69269,     0.69369,     0.69469,      0.6957,\n",
              "            0.6967,      0.6977,      0.6987,      0.6997,      0.7007,      0.7017,      0.7027,      0.7037,      0.7047,     0.70571,     0.70671,     0.70771,     0.70871,     0.70971,     0.71071,     0.71171,     0.71271,     0.71371,     0.71471,     0.71572,     0.71672,     0.71772,     0.71872,     0.71972,\n",
              "           0.72072,     0.72172,     0.72272,     0.72372,     0.72472,     0.72573,     0.72673,     0.72773,     0.72873,     0.72973,     0.73073,     0.73173,     0.73273,     0.73373,     0.73473,     0.73574,     0.73674,     0.73774,     0.73874,     0.73974,     0.74074,     0.74174,     0.74274,     0.74374,\n",
              "           0.74474,     0.74575,     0.74675,     0.74775,     0.74875,     0.74975,     0.75075,     0.75175,     0.75275,     0.75375,     0.75475,     0.75576,     0.75676,     0.75776,     0.75876,     0.75976,     0.76076,     0.76176,     0.76276,     0.76376,     0.76476,     0.76577,     0.76677,     0.76777,\n",
              "           0.76877,     0.76977,     0.77077,     0.77177,     0.77277,     0.77377,     0.77477,     0.77578,     0.77678,     0.77778,     0.77878,     0.77978,     0.78078,     0.78178,     0.78278,     0.78378,     0.78478,     0.78579,     0.78679,     0.78779,     0.78879,     0.78979,     0.79079,     0.79179,\n",
              "           0.79279,     0.79379,     0.79479,      0.7958,      0.7968,      0.7978,      0.7988,      0.7998,      0.8008,      0.8018,      0.8028,      0.8038,      0.8048,     0.80581,     0.80681,     0.80781,     0.80881,     0.80981,     0.81081,     0.81181,     0.81281,     0.81381,     0.81481,     0.81582,\n",
              "           0.81682,     0.81782,     0.81882,     0.81982,     0.82082,     0.82182,     0.82282,     0.82382,     0.82482,     0.82583,     0.82683,     0.82783,     0.82883,     0.82983,     0.83083,     0.83183,     0.83283,     0.83383,     0.83483,     0.83584,     0.83684,     0.83784,     0.83884,     0.83984,\n",
              "           0.84084,     0.84184,     0.84284,     0.84384,     0.84484,     0.84585,     0.84685,     0.84785,     0.84885,     0.84985,     0.85085,     0.85185,     0.85285,     0.85385,     0.85485,     0.85586,     0.85686,     0.85786,     0.85886,     0.85986,     0.86086,     0.86186,     0.86286,     0.86386,\n",
              "           0.86486,     0.86587,     0.86687,     0.86787,     0.86887,     0.86987,     0.87087,     0.87187,     0.87287,     0.87387,     0.87487,     0.87588,     0.87688,     0.87788,     0.87888,     0.87988,     0.88088,     0.88188,     0.88288,     0.88388,     0.88488,     0.88589,     0.88689,     0.88789,\n",
              "           0.88889,     0.88989,     0.89089,     0.89189,     0.89289,     0.89389,     0.89489,      0.8959,      0.8969,      0.8979,      0.8989,      0.8999,      0.9009,      0.9019,      0.9029,      0.9039,      0.9049,     0.90591,     0.90691,     0.90791,     0.90891,     0.90991,     0.91091,     0.91191,\n",
              "           0.91291,     0.91391,     0.91491,     0.91592,     0.91692,     0.91792,     0.91892,     0.91992,     0.92092,     0.92192,     0.92292,     0.92392,     0.92492,     0.92593,     0.92693,     0.92793,     0.92893,     0.92993,     0.93093,     0.93193,     0.93293,     0.93393,     0.93493,     0.93594,\n",
              "           0.93694,     0.93794,     0.93894,     0.93994,     0.94094,     0.94194,     0.94294,     0.94394,     0.94494,     0.94595,     0.94695,     0.94795,     0.94895,     0.94995,     0.95095,     0.95195,     0.95295,     0.95395,     0.95495,     0.95596,     0.95696,     0.95796,     0.95896,     0.95996,\n",
              "           0.96096,     0.96196,     0.96296,     0.96396,     0.96496,     0.96597,     0.96697,     0.96797,     0.96897,     0.96997,     0.97097,     0.97197,     0.97297,     0.97397,     0.97497,     0.97598,     0.97698,     0.97798,     0.97898,     0.97998,     0.98098,     0.98198,     0.98298,     0.98398,\n",
              "           0.98498,     0.98599,     0.98699,     0.98799,     0.98899,     0.98999,     0.99099,     0.99199,     0.99299,     0.99399,     0.99499,       0.996,       0.997,       0.998,       0.999,           1]), array([[    0.11608,     0.11608,     0.15472,     0.18512,      0.2051,     0.22645,     0.24243,     0.25592,      0.2691,     0.27896,     0.29047,     0.30061,     0.31036,      0.3202,     0.32879,     0.33762,     0.34395,     0.35337,     0.35977,     0.36476,     0.37235,     0.38017,     0.38487,\n",
              "            0.39076,     0.39838,     0.40438,     0.40957,     0.41488,      0.4196,     0.42397,     0.42898,     0.43252,     0.43917,     0.44248,     0.44771,     0.45042,     0.45291,     0.45684,      0.4601,     0.46192,     0.46485,     0.46809,     0.47133,      0.4762,     0.47966,     0.48305,\n",
              "            0.48577,     0.48918,     0.49296,     0.49771,      0.5007,     0.50169,     0.50051,     0.50105,     0.50574,     0.50868,     0.51249,     0.51586,     0.51724,     0.51811,     0.51997,     0.52229,     0.52507,      0.5285,     0.53049,      0.5324,     0.53383,     0.53573,     0.53795,\n",
              "            0.53839,     0.54045,     0.54197,     0.54412,     0.54671,     0.54889,     0.55127,     0.55454,     0.55664,     0.55876,     0.56122,      0.5632,     0.56346,     0.56618,      0.5688,     0.57041,     0.57268,      0.5721,     0.57178,     0.57132,     0.57275,     0.57426,     0.57558,\n",
              "            0.57651,     0.57794,      0.5789,     0.58012,     0.58181,     0.58322,     0.58318,     0.58205,      0.5836,     0.58406,     0.58519,      0.5861,     0.58552,     0.58685,     0.58722,     0.58725,     0.58841,     0.58752,     0.58769,     0.58881,     0.59005,     0.59041,     0.59118,\n",
              "            0.59152,     0.59183,     0.58883,     0.58925,     0.59018,     0.59082,     0.59136,     0.59214,     0.59389,     0.59627,     0.59738,      0.5979,     0.59832,     0.60004,     0.60058,     0.60185,     0.60276,     0.60343,     0.60518,     0.60681,     0.60915,     0.60983,     0.61039,\n",
              "            0.61061,     0.60943,     0.61196,     0.61387,     0.61414,     0.61442,     0.61593,     0.61423,     0.61476,     0.61543,     0.61595,     0.61626,     0.61751,     0.61899,     0.62049,     0.62087,     0.62126,     0.62176,     0.62399,     0.62523,      0.6262,     0.62674,     0.62785,\n",
              "            0.62864,     0.62965,     0.63168,     0.63219,     0.63337,     0.63422,     0.63462,     0.63505,     0.63553,     0.63581,     0.63602,     0.63624,     0.63645,     0.63311,     0.63359,     0.63407,     0.63456,     0.63529,     0.63655,     0.63892,     0.64067,     0.64117,     0.64182,\n",
              "             0.6424,     0.64289,     0.64563,      0.6461,     0.64657,     0.64703,     0.64856,     0.64787,     0.64832,     0.64868,     0.64953,     0.65096,     0.65327,     0.65429,     0.65475,     0.65655,      0.6577,     0.65794,     0.65818,     0.65841,     0.65873,     0.65767,      0.6579,\n",
              "            0.65812,     0.65835,     0.65901,     0.65966,     0.66001,     0.66223,      0.6629,     0.66358,     0.66325,     0.66186,     0.66035,     0.66088,     0.66189,     0.66357,     0.66354,     0.66285,     0.66216,     0.66325,     0.66451,     0.66584,     0.66654,     0.66703,     0.66748,\n",
              "            0.66714,     0.66802,     0.67034,     0.67246,     0.67317,     0.67253,     0.67168,     0.67186,     0.67372,     0.67273,     0.67298,     0.67401,     0.67532,     0.67665,     0.67758,     0.67918,     0.67951,     0.67985,     0.68026,     0.68099,     0.68137,      0.6817,     0.68202,\n",
              "            0.68263,      0.6833,     0.68398,     0.68625,     0.68762,     0.68899,     0.69021,      0.6909,     0.69311,     0.69353,     0.69395,     0.69494,     0.69686,     0.69583,     0.69724,     0.69658,     0.69675,     0.69691,     0.69707,     0.69724,      0.6974,     0.69789,     0.69869,\n",
              "            0.69889,     0.69951,     0.69995,     0.70031,     0.70067,     0.70101,     0.70134,     0.70167,     0.70113,     0.69998,     0.69958,     0.69927,     0.69896,     0.69865,     0.69834,     0.69803,     0.69867,     0.69929,     0.69973,     0.70041,     0.70164,     0.70242,     0.70286,\n",
              "            0.70353,     0.70458,     0.70521,     0.70584,     0.70654,     0.70898,     0.71023,     0.70907,     0.70952,     0.71001,     0.71065,     0.71129,     0.71194,     0.71226,      0.7113,     0.71068,     0.71163,     0.71228,     0.71294,     0.71359,     0.71165,     0.71187,     0.71208,\n",
              "             0.7123,     0.71252,     0.71279,     0.71344,     0.71301,     0.71209,     0.71275,     0.71307,     0.71326,     0.71346,     0.71365,     0.71384,     0.71403,     0.71433,     0.71464,     0.71494,     0.71533,     0.71599,     0.71665,     0.71732,     0.71838,     0.71453,     0.71471,\n",
              "            0.71489,     0.71507,     0.71525,     0.71543,     0.71561,      0.7159,     0.71624,     0.71657,     0.71686,     0.71704,     0.71722,      0.7174,     0.71758,     0.71776,     0.71795,     0.71837,      0.7188,     0.72046,     0.72114,     0.72079,     0.71973,     0.71979,     0.72047,\n",
              "            0.72164,     0.72193,     0.72218,     0.72243,     0.72268,     0.72308,     0.72376,     0.72558,     0.72618,     0.72865,     0.72706,     0.72747,     0.72788,     0.72858,     0.72885,     0.72813,     0.72742,     0.72668,      0.7259,     0.72512,      0.7265,     0.72711,     0.72741,\n",
              "             0.7276,     0.72779,     0.72798,     0.72817,     0.72836,     0.72925,     0.72817,     0.72767,     0.72789,      0.7281,     0.72832,     0.72854,     0.72875,     0.72906,      0.7294,     0.72973,     0.72792,     0.72817,     0.72842,     0.72867,     0.72892,     0.72948,     0.73006,\n",
              "            0.72926,     0.72847,     0.72839,      0.7287,     0.72902,     0.72933,     0.73084,      0.7311,     0.73137,     0.73164,     0.73201,     0.73319,     0.73383,     0.73207,     0.73134,      0.7306,     0.73021,     0.73085,     0.73149,     0.73213,      0.7335,      0.7327,     0.73189,\n",
              "            0.73168,     0.73177,     0.73185,     0.73194,     0.73202,     0.73211,      0.7322,     0.73228,     0.73237,     0.73245,     0.73254,     0.73262,     0.73271,     0.73279,     0.73284,     0.73172,     0.73077,      0.7315,     0.73338,     0.73381,     0.73425,     0.73463,     0.73495,\n",
              "            0.73528,      0.7356,     0.73326,     0.73269,     0.73213,     0.73157,     0.72991,     0.72895,     0.72863,      0.7283,     0.72798,     0.72766,     0.72733,     0.72701,     0.72838,     0.72857,     0.72875,     0.72894,     0.72912,     0.72931,     0.72951,     0.73075,     0.73018,\n",
              "            0.72961,     0.72904,     0.72859,     0.72892,     0.72925,     0.72957,     0.72998,     0.73063,     0.73117,     0.73139,     0.73161,     0.73183,     0.73205,     0.73227,     0.73248,     0.73266,     0.73285,     0.73304,     0.73323,     0.73342,     0.73361,     0.73137,     0.73066,\n",
              "            0.73093,     0.73119,     0.73146,     0.73173,     0.73213,     0.73257,     0.73302,     0.73346,     0.73391,     0.73435,     0.73457,     0.73477,     0.73496,     0.73515,     0.73534,     0.73553,      0.7358,     0.73715,     0.73583,       0.734,     0.73535,     0.73671,     0.73731,\n",
              "            0.73537,     0.73478,      0.7342,     0.73361,     0.73243,     0.73063,     0.72984,     0.72905,     0.72868,     0.72888,     0.72907,     0.72927,     0.72946,     0.72965,     0.72985,     0.72957,     0.72898,     0.72838,     0.72779,     0.72705,     0.72626,     0.72546,     0.72201,\n",
              "            0.72081,     0.72023,     0.71979,     0.71935,     0.71891,     0.71847,     0.71846,     0.71784,     0.71869,     0.71903,     0.71937,     0.71971,     0.71761,     0.71784,     0.71807,     0.71829,     0.71852,     0.71875,     0.71983,     0.72068,     0.72137,     0.72049,     0.71926,\n",
              "            0.71696,     0.71449,     0.71454,     0.71482,     0.71509,     0.71537,     0.71557,     0.71391,     0.71249,     0.71124,     0.70536,     0.70452,     0.70368,     0.70166,     0.70168,     0.70083,     0.69998,      0.7009,     0.70068,     0.70012,     0.69955,     0.69898,     0.69811,\n",
              "            0.69682,     0.69816,     0.69852,     0.69787,     0.69723,     0.69658,      0.6897,     0.68825,      0.6875,     0.68675,     0.68645,     0.68766,     0.68835,      0.6887,     0.68817,     0.68764,     0.68712,     0.68659,       0.688,     0.68892,     0.68648,     0.68553,     0.68465,\n",
              "            0.68374,     0.68241,     0.68266,     0.68369,      0.6819,     0.67952,     0.67843,     0.67811,     0.67779,     0.67747,     0.67715,     0.67684,     0.67652,      0.6762,      0.6735,     0.67389,     0.67429,     0.67469,     0.67537,     0.67603,     0.67467,     0.67327,     0.67144,\n",
              "            0.67029,      0.6696,     0.66891,     0.66822,     0.66673,     0.66548,     0.66617,     0.66627,     0.66488,     0.66377,     0.66321,     0.66265,     0.66209,     0.66153,     0.66134,     0.66159,     0.66184,      0.6621,     0.66235,     0.66251,      0.6617,      0.6609,      0.6601,\n",
              "            0.65377,     0.65296,     0.65215,     0.65118,     0.64975,     0.64344,     0.64435,      0.6447,     0.64495,      0.6452,     0.64545,      0.6457,     0.64491,       0.643,     0.64247,     0.64194,     0.64141,     0.64088,     0.64035,      0.6389,     0.63418,     0.63271,     0.63111,\n",
              "            0.62914,     0.62899,     0.62938,     0.62977,     0.63035,     0.63126,     0.63002,     0.62853,     0.62657,     0.62457,     0.61668,     0.61516,     0.60909,     0.60936,     0.60963,      0.6099,     0.61017,     0.61056,     0.61147,      0.6072,     0.60557,      0.6052,     0.60484,\n",
              "            0.60447,      0.6041,     0.60373,     0.60337,       0.603,     0.60263,     0.59753,     0.59543,     0.59332,      0.5912,     0.58627,     0.58467,     0.57958,     0.57425,     0.57208,     0.56025,     0.55803,     0.55581,     0.55564,     0.55607,      0.5565,     0.55575,     0.55479,\n",
              "            0.55383,     0.55232,     0.55007,     0.54711,     0.54754,     0.54785,     0.54558,     0.54396,     0.54282,     0.54168,     0.53643,     0.52856,     0.52622,     0.51697,      0.5146,     0.51222,     0.50537,      0.5051,     0.50268,     0.50025,     0.49782,     0.49537,     0.48686,\n",
              "            0.48438,      0.4819,     0.48065,      0.4794,     0.47791,     0.47058,     0.46804,     0.46174,      0.4598,     0.46057,     0.45131,      0.4487,     0.44607,     0.44344,     0.43338,     0.43177,     0.43017,     0.42364,     0.41695,     0.41422,     0.40852,     0.40687,     0.40536,\n",
              "            0.40397,     0.40258,     0.38718,     0.38471,     0.38329,     0.38187,     0.38084,     0.37999,     0.37913,     0.37827,     0.37741,      0.3749,     0.37202,     0.36913,     0.36492,      0.3619,      0.3583,     0.35517,      0.3534,     0.34732,      0.3462,     0.34509,     0.34397,\n",
              "            0.34237,     0.32948,     0.32766,     0.32583,     0.32311,     0.31513,      0.3018,     0.29866,     0.29191,        0.29,     0.28777,     0.27823,     0.26507,      0.2631,     0.26112,     0.25914,     0.25715,     0.25349,     0.25057,     0.24913,      0.2477,     0.24566,     0.24093,\n",
              "            0.23754,     0.22977,      0.2272,     0.22262,     0.22107,     0.22042,     0.21978,     0.21913,     0.21848,     0.21783,     0.21718,     0.21653,     0.21479,     0.21305,     0.20594,     0.19572,     0.19305,     0.19024,     0.18666,     0.18184,     0.17832,      0.1756,     0.16545,\n",
              "            0.16208,     0.15931,     0.14328,     0.13206,     0.12323,     0.12034,     0.10741,     0.10594,     0.10447,    0.091213,    0.079218,    0.078211,    0.077202,    0.076193,    0.075182,     0.07417,     0.07109,    0.067607,    0.066248,    0.064886,    0.063523,    0.062157,    0.055362,\n",
              "            0.05471,    0.054058,    0.053405,    0.052752,    0.052098,    0.051444,    0.050789,    0.050134,    0.049458,    0.048766,    0.048073,    0.047379,    0.046685,    0.045991,    0.045296,    0.044601,    0.043905,    0.043375,    0.042893,     0.04241,    0.041927,    0.041444,    0.040961,\n",
              "           0.040477,    0.039994,     0.03951,    0.039026,    0.038541,    0.038056,    0.037517,    0.036466,    0.035413,    0.034359,    0.033304,    0.032248,    0.031285,    0.030617,    0.029948,    0.029279,    0.028609,    0.027939,    0.027269,    0.026598,    0.025926,    0.025254,      0.0242,\n",
              "           0.023134,    0.022067,    0.020999,    0.019929,    0.018891,    0.018087,    0.017283,    0.016478,    0.015672,    0.014866,    0.014059,    0.013252,    0.012643,    0.012465,    0.012288,    0.012111,    0.011934,    0.011756,    0.011579,    0.011401,    0.011224,    0.011047,    0.010869,\n",
              "           0.010692,    0.010514,    0.010336,    0.010159,   0.0099812,   0.0098036,   0.0096259,   0.0094481,   0.0092704,   0.0090926,   0.0089147,   0.0087369,    0.008559,    0.008381,   0.0082031,   0.0080251,   0.0078471,    0.007669,   0.0074909,   0.0073128,   0.0071347,   0.0069565,   0.0067783,\n",
              "             0.0066,   0.0064217,           0,           0,           0,           0,           0,           0,           0,           0,           0,           0,           0,           0,           0,           0,           0,           0,           0,           0,           0,           0,           0,\n",
              "                  0,           0,           0,           0,           0,           0,           0,           0,           0,           0,           0]]), 'Confidence', 'F1'], [array([          0,    0.001001,    0.002002,    0.003003,    0.004004,    0.005005,    0.006006,    0.007007,    0.008008,    0.009009,     0.01001,    0.011011,    0.012012,    0.013013,    0.014014,    0.015015,    0.016016,    0.017017,    0.018018,    0.019019,     0.02002,    0.021021,    0.022022,    0.023023,\n",
              "          0.024024,    0.025025,    0.026026,    0.027027,    0.028028,    0.029029,     0.03003,    0.031031,    0.032032,    0.033033,    0.034034,    0.035035,    0.036036,    0.037037,    0.038038,    0.039039,     0.04004,    0.041041,    0.042042,    0.043043,    0.044044,    0.045045,    0.046046,    0.047047,\n",
              "          0.048048,    0.049049,     0.05005,    0.051051,    0.052052,    0.053053,    0.054054,    0.055055,    0.056056,    0.057057,    0.058058,    0.059059,     0.06006,    0.061061,    0.062062,    0.063063,    0.064064,    0.065065,    0.066066,    0.067067,    0.068068,    0.069069,     0.07007,    0.071071,\n",
              "          0.072072,    0.073073,    0.074074,    0.075075,    0.076076,    0.077077,    0.078078,    0.079079,     0.08008,    0.081081,    0.082082,    0.083083,    0.084084,    0.085085,    0.086086,    0.087087,    0.088088,    0.089089,     0.09009,    0.091091,    0.092092,    0.093093,    0.094094,    0.095095,\n",
              "          0.096096,    0.097097,    0.098098,    0.099099,      0.1001,      0.1011,      0.1021,      0.1031,      0.1041,     0.10511,     0.10611,     0.10711,     0.10811,     0.10911,     0.11011,     0.11111,     0.11211,     0.11311,     0.11411,     0.11512,     0.11612,     0.11712,     0.11812,     0.11912,\n",
              "           0.12012,     0.12112,     0.12212,     0.12312,     0.12412,     0.12513,     0.12613,     0.12713,     0.12813,     0.12913,     0.13013,     0.13113,     0.13213,     0.13313,     0.13413,     0.13514,     0.13614,     0.13714,     0.13814,     0.13914,     0.14014,     0.14114,     0.14214,     0.14314,\n",
              "           0.14414,     0.14515,     0.14615,     0.14715,     0.14815,     0.14915,     0.15015,     0.15115,     0.15215,     0.15315,     0.15415,     0.15516,     0.15616,     0.15716,     0.15816,     0.15916,     0.16016,     0.16116,     0.16216,     0.16316,     0.16416,     0.16517,     0.16617,     0.16717,\n",
              "           0.16817,     0.16917,     0.17017,     0.17117,     0.17217,     0.17317,     0.17417,     0.17518,     0.17618,     0.17718,     0.17818,     0.17918,     0.18018,     0.18118,     0.18218,     0.18318,     0.18418,     0.18519,     0.18619,     0.18719,     0.18819,     0.18919,     0.19019,     0.19119,\n",
              "           0.19219,     0.19319,     0.19419,      0.1952,      0.1962,      0.1972,      0.1982,      0.1992,      0.2002,      0.2012,      0.2022,      0.2032,      0.2042,     0.20521,     0.20621,     0.20721,     0.20821,     0.20921,     0.21021,     0.21121,     0.21221,     0.21321,     0.21421,     0.21522,\n",
              "           0.21622,     0.21722,     0.21822,     0.21922,     0.22022,     0.22122,     0.22222,     0.22322,     0.22422,     0.22523,     0.22623,     0.22723,     0.22823,     0.22923,     0.23023,     0.23123,     0.23223,     0.23323,     0.23423,     0.23524,     0.23624,     0.23724,     0.23824,     0.23924,\n",
              "           0.24024,     0.24124,     0.24224,     0.24324,     0.24424,     0.24525,     0.24625,     0.24725,     0.24825,     0.24925,     0.25025,     0.25125,     0.25225,     0.25325,     0.25425,     0.25526,     0.25626,     0.25726,     0.25826,     0.25926,     0.26026,     0.26126,     0.26226,     0.26326,\n",
              "           0.26426,     0.26527,     0.26627,     0.26727,     0.26827,     0.26927,     0.27027,     0.27127,     0.27227,     0.27327,     0.27427,     0.27528,     0.27628,     0.27728,     0.27828,     0.27928,     0.28028,     0.28128,     0.28228,     0.28328,     0.28428,     0.28529,     0.28629,     0.28729,\n",
              "           0.28829,     0.28929,     0.29029,     0.29129,     0.29229,     0.29329,     0.29429,      0.2953,      0.2963,      0.2973,      0.2983,      0.2993,      0.3003,      0.3013,      0.3023,      0.3033,      0.3043,     0.30531,     0.30631,     0.30731,     0.30831,     0.30931,     0.31031,     0.31131,\n",
              "           0.31231,     0.31331,     0.31431,     0.31532,     0.31632,     0.31732,     0.31832,     0.31932,     0.32032,     0.32132,     0.32232,     0.32332,     0.32432,     0.32533,     0.32633,     0.32733,     0.32833,     0.32933,     0.33033,     0.33133,     0.33233,     0.33333,     0.33433,     0.33534,\n",
              "           0.33634,     0.33734,     0.33834,     0.33934,     0.34034,     0.34134,     0.34234,     0.34334,     0.34434,     0.34535,     0.34635,     0.34735,     0.34835,     0.34935,     0.35035,     0.35135,     0.35235,     0.35335,     0.35435,     0.35536,     0.35636,     0.35736,     0.35836,     0.35936,\n",
              "           0.36036,     0.36136,     0.36236,     0.36336,     0.36436,     0.36537,     0.36637,     0.36737,     0.36837,     0.36937,     0.37037,     0.37137,     0.37237,     0.37337,     0.37437,     0.37538,     0.37638,     0.37738,     0.37838,     0.37938,     0.38038,     0.38138,     0.38238,     0.38338,\n",
              "           0.38438,     0.38539,     0.38639,     0.38739,     0.38839,     0.38939,     0.39039,     0.39139,     0.39239,     0.39339,     0.39439,      0.3954,      0.3964,      0.3974,      0.3984,      0.3994,      0.4004,      0.4014,      0.4024,      0.4034,      0.4044,     0.40541,     0.40641,     0.40741,\n",
              "           0.40841,     0.40941,     0.41041,     0.41141,     0.41241,     0.41341,     0.41441,     0.41542,     0.41642,     0.41742,     0.41842,     0.41942,     0.42042,     0.42142,     0.42242,     0.42342,     0.42442,     0.42543,     0.42643,     0.42743,     0.42843,     0.42943,     0.43043,     0.43143,\n",
              "           0.43243,     0.43343,     0.43443,     0.43544,     0.43644,     0.43744,     0.43844,     0.43944,     0.44044,     0.44144,     0.44244,     0.44344,     0.44444,     0.44545,     0.44645,     0.44745,     0.44845,     0.44945,     0.45045,     0.45145,     0.45245,     0.45345,     0.45445,     0.45546,\n",
              "           0.45646,     0.45746,     0.45846,     0.45946,     0.46046,     0.46146,     0.46246,     0.46346,     0.46446,     0.46547,     0.46647,     0.46747,     0.46847,     0.46947,     0.47047,     0.47147,     0.47247,     0.47347,     0.47447,     0.47548,     0.47648,     0.47748,     0.47848,     0.47948,\n",
              "           0.48048,     0.48148,     0.48248,     0.48348,     0.48448,     0.48549,     0.48649,     0.48749,     0.48849,     0.48949,     0.49049,     0.49149,     0.49249,     0.49349,     0.49449,      0.4955,      0.4965,      0.4975,      0.4985,      0.4995,      0.5005,      0.5015,      0.5025,      0.5035,\n",
              "            0.5045,     0.50551,     0.50651,     0.50751,     0.50851,     0.50951,     0.51051,     0.51151,     0.51251,     0.51351,     0.51451,     0.51552,     0.51652,     0.51752,     0.51852,     0.51952,     0.52052,     0.52152,     0.52252,     0.52352,     0.52452,     0.52553,     0.52653,     0.52753,\n",
              "           0.52853,     0.52953,     0.53053,     0.53153,     0.53253,     0.53353,     0.53453,     0.53554,     0.53654,     0.53754,     0.53854,     0.53954,     0.54054,     0.54154,     0.54254,     0.54354,     0.54454,     0.54555,     0.54655,     0.54755,     0.54855,     0.54955,     0.55055,     0.55155,\n",
              "           0.55255,     0.55355,     0.55455,     0.55556,     0.55656,     0.55756,     0.55856,     0.55956,     0.56056,     0.56156,     0.56256,     0.56356,     0.56456,     0.56557,     0.56657,     0.56757,     0.56857,     0.56957,     0.57057,     0.57157,     0.57257,     0.57357,     0.57457,     0.57558,\n",
              "           0.57658,     0.57758,     0.57858,     0.57958,     0.58058,     0.58158,     0.58258,     0.58358,     0.58458,     0.58559,     0.58659,     0.58759,     0.58859,     0.58959,     0.59059,     0.59159,     0.59259,     0.59359,     0.59459,      0.5956,      0.5966,      0.5976,      0.5986,      0.5996,\n",
              "            0.6006,      0.6016,      0.6026,      0.6036,      0.6046,     0.60561,     0.60661,     0.60761,     0.60861,     0.60961,     0.61061,     0.61161,     0.61261,     0.61361,     0.61461,     0.61562,     0.61662,     0.61762,     0.61862,     0.61962,     0.62062,     0.62162,     0.62262,     0.62362,\n",
              "           0.62462,     0.62563,     0.62663,     0.62763,     0.62863,     0.62963,     0.63063,     0.63163,     0.63263,     0.63363,     0.63463,     0.63564,     0.63664,     0.63764,     0.63864,     0.63964,     0.64064,     0.64164,     0.64264,     0.64364,     0.64464,     0.64565,     0.64665,     0.64765,\n",
              "           0.64865,     0.64965,     0.65065,     0.65165,     0.65265,     0.65365,     0.65465,     0.65566,     0.65666,     0.65766,     0.65866,     0.65966,     0.66066,     0.66166,     0.66266,     0.66366,     0.66466,     0.66567,     0.66667,     0.66767,     0.66867,     0.66967,     0.67067,     0.67167,\n",
              "           0.67267,     0.67367,     0.67467,     0.67568,     0.67668,     0.67768,     0.67868,     0.67968,     0.68068,     0.68168,     0.68268,     0.68368,     0.68468,     0.68569,     0.68669,     0.68769,     0.68869,     0.68969,     0.69069,     0.69169,     0.69269,     0.69369,     0.69469,      0.6957,\n",
              "            0.6967,      0.6977,      0.6987,      0.6997,      0.7007,      0.7017,      0.7027,      0.7037,      0.7047,     0.70571,     0.70671,     0.70771,     0.70871,     0.70971,     0.71071,     0.71171,     0.71271,     0.71371,     0.71471,     0.71572,     0.71672,     0.71772,     0.71872,     0.71972,\n",
              "           0.72072,     0.72172,     0.72272,     0.72372,     0.72472,     0.72573,     0.72673,     0.72773,     0.72873,     0.72973,     0.73073,     0.73173,     0.73273,     0.73373,     0.73473,     0.73574,     0.73674,     0.73774,     0.73874,     0.73974,     0.74074,     0.74174,     0.74274,     0.74374,\n",
              "           0.74474,     0.74575,     0.74675,     0.74775,     0.74875,     0.74975,     0.75075,     0.75175,     0.75275,     0.75375,     0.75475,     0.75576,     0.75676,     0.75776,     0.75876,     0.75976,     0.76076,     0.76176,     0.76276,     0.76376,     0.76476,     0.76577,     0.76677,     0.76777,\n",
              "           0.76877,     0.76977,     0.77077,     0.77177,     0.77277,     0.77377,     0.77477,     0.77578,     0.77678,     0.77778,     0.77878,     0.77978,     0.78078,     0.78178,     0.78278,     0.78378,     0.78478,     0.78579,     0.78679,     0.78779,     0.78879,     0.78979,     0.79079,     0.79179,\n",
              "           0.79279,     0.79379,     0.79479,      0.7958,      0.7968,      0.7978,      0.7988,      0.7998,      0.8008,      0.8018,      0.8028,      0.8038,      0.8048,     0.80581,     0.80681,     0.80781,     0.80881,     0.80981,     0.81081,     0.81181,     0.81281,     0.81381,     0.81481,     0.81582,\n",
              "           0.81682,     0.81782,     0.81882,     0.81982,     0.82082,     0.82182,     0.82282,     0.82382,     0.82482,     0.82583,     0.82683,     0.82783,     0.82883,     0.82983,     0.83083,     0.83183,     0.83283,     0.83383,     0.83483,     0.83584,     0.83684,     0.83784,     0.83884,     0.83984,\n",
              "           0.84084,     0.84184,     0.84284,     0.84384,     0.84484,     0.84585,     0.84685,     0.84785,     0.84885,     0.84985,     0.85085,     0.85185,     0.85285,     0.85385,     0.85485,     0.85586,     0.85686,     0.85786,     0.85886,     0.85986,     0.86086,     0.86186,     0.86286,     0.86386,\n",
              "           0.86486,     0.86587,     0.86687,     0.86787,     0.86887,     0.86987,     0.87087,     0.87187,     0.87287,     0.87387,     0.87487,     0.87588,     0.87688,     0.87788,     0.87888,     0.87988,     0.88088,     0.88188,     0.88288,     0.88388,     0.88488,     0.88589,     0.88689,     0.88789,\n",
              "           0.88889,     0.88989,     0.89089,     0.89189,     0.89289,     0.89389,     0.89489,      0.8959,      0.8969,      0.8979,      0.8989,      0.8999,      0.9009,      0.9019,      0.9029,      0.9039,      0.9049,     0.90591,     0.90691,     0.90791,     0.90891,     0.90991,     0.91091,     0.91191,\n",
              "           0.91291,     0.91391,     0.91491,     0.91592,     0.91692,     0.91792,     0.91892,     0.91992,     0.92092,     0.92192,     0.92292,     0.92392,     0.92492,     0.92593,     0.92693,     0.92793,     0.92893,     0.92993,     0.93093,     0.93193,     0.93293,     0.93393,     0.93493,     0.93594,\n",
              "           0.93694,     0.93794,     0.93894,     0.93994,     0.94094,     0.94194,     0.94294,     0.94394,     0.94494,     0.94595,     0.94695,     0.94795,     0.94895,     0.94995,     0.95095,     0.95195,     0.95295,     0.95395,     0.95495,     0.95596,     0.95696,     0.95796,     0.95896,     0.95996,\n",
              "           0.96096,     0.96196,     0.96296,     0.96396,     0.96496,     0.96597,     0.96697,     0.96797,     0.96897,     0.96997,     0.97097,     0.97197,     0.97297,     0.97397,     0.97497,     0.97598,     0.97698,     0.97798,     0.97898,     0.97998,     0.98098,     0.98198,     0.98298,     0.98398,\n",
              "           0.98498,     0.98599,     0.98699,     0.98799,     0.98899,     0.98999,     0.99099,     0.99199,     0.99299,     0.99399,     0.99499,       0.996,       0.997,       0.998,       0.999,           1]), array([[    0.06196,     0.06196,    0.084542,     0.10303,     0.11578,     0.12957,     0.14021,     0.14932,     0.15839,     0.16535,     0.17351,     0.18079,     0.18803,     0.19546,     0.20207,     0.20878,     0.21383,     0.22116,      0.2262,      0.2306,     0.23693,     0.24331,     0.24743,\n",
              "            0.25231,     0.25871,     0.26379,     0.26823,      0.2728,     0.27689,     0.28105,     0.28547,     0.28862,     0.29457,     0.29756,      0.3023,     0.30478,     0.30707,     0.31069,     0.31372,     0.31541,     0.31815,     0.32119,     0.32425,     0.32888,     0.33219,     0.33544,\n",
              "            0.33807,     0.34139,     0.34508,     0.34975,     0.35271,      0.3537,     0.35306,     0.35414,     0.35885,     0.36182,     0.36568,     0.36912,     0.37054,     0.37203,     0.37458,     0.37699,      0.3799,      0.3835,     0.38559,     0.38762,     0.38913,     0.39115,     0.39352,\n",
              "            0.39469,     0.39691,     0.39855,     0.40088,     0.40369,     0.40607,     0.40943,     0.41305,     0.41539,     0.41775,     0.42051,     0.42274,     0.42384,     0.42692,     0.42991,     0.43175,     0.43435,     0.43418,     0.43433,     0.43451,     0.43617,     0.43792,     0.43946,\n",
              "            0.44107,     0.44312,     0.44425,     0.44569,     0.44769,     0.44936,     0.44957,     0.44889,     0.45171,     0.45226,     0.45362,     0.45471,     0.45492,     0.45659,     0.45704,     0.45808,     0.45949,     0.45986,     0.46168,     0.46306,      0.4646,     0.46505,       0.466,\n",
              "            0.46643,     0.46725,      0.4659,     0.46682,       0.468,      0.4699,     0.47059,     0.47158,      0.4738,     0.47684,     0.47826,     0.47893,     0.47947,     0.48168,     0.48237,     0.48401,      0.4852,     0.48672,     0.48954,     0.49168,     0.49477,     0.49566,      0.4964,\n",
              "            0.49686,     0.49617,     0.49975,     0.50231,     0.50267,     0.50304,     0.50507,      0.5041,     0.50481,     0.50571,     0.50641,     0.50684,     0.50854,     0.51054,     0.51259,     0.51311,     0.51364,     0.51432,     0.51738,     0.51908,     0.52042,     0.52117,     0.52271,\n",
              "            0.52381,      0.5252,     0.52804,     0.52876,     0.53041,      0.5316,     0.53216,     0.53277,     0.53344,     0.53384,     0.53414,     0.53444,     0.53473,     0.53299,     0.53367,     0.53435,     0.53504,     0.53609,     0.53788,     0.54127,      0.5438,     0.54451,     0.54545,\n",
              "            0.54628,       0.547,     0.55098,     0.55166,     0.55234,     0.55302,      0.5556,     0.55587,     0.55654,     0.55706,     0.55832,     0.56044,     0.56387,      0.5654,     0.56607,     0.56878,     0.57051,     0.57087,     0.57122,     0.57158,     0.57273,     0.57219,     0.57254,\n",
              "            0.57289,     0.57323,     0.57423,     0.57522,     0.57575,     0.57913,     0.58016,      0.5812,     0.58136,      0.5806,     0.57977,     0.58069,     0.58225,     0.58485,     0.58517,     0.58479,     0.58441,     0.58623,      0.5882,     0.59029,     0.59138,     0.59216,     0.59287,\n",
              "            0.59426,     0.59567,     0.59936,     0.60276,      0.6039,     0.60367,     0.60321,     0.60382,     0.60682,     0.60688,     0.60769,     0.60936,     0.61152,     0.61369,     0.61523,     0.61787,     0.61843,     0.61898,     0.61967,     0.62088,     0.62151,     0.62205,     0.62259,\n",
              "             0.6236,     0.62473,     0.62586,     0.62968,     0.63199,     0.63431,     0.63638,     0.63756,     0.64133,     0.64204,     0.64276,     0.64447,     0.64818,     0.64835,     0.65081,     0.65208,     0.65237,     0.65265,     0.65294,     0.65323,     0.65351,     0.65437,     0.65579,\n",
              "            0.65863,     0.65972,      0.6605,     0.66114,     0.66178,     0.66239,     0.66298,     0.66358,     0.66348,     0.66292,     0.66272,     0.66257,     0.66242,     0.66227,     0.66211,     0.66196,      0.6633,     0.66443,     0.66521,     0.66644,     0.66868,      0.6701,     0.67089,\n",
              "            0.67212,     0.67404,     0.67519,     0.67635,     0.67764,     0.68214,     0.68447,     0.68506,      0.6859,     0.68681,     0.68802,     0.68922,     0.69043,     0.69234,     0.69207,     0.69377,     0.69559,     0.69683,     0.69808,     0.69934,     0.69856,     0.69898,      0.6994,\n",
              "            0.69982,     0.70024,     0.70075,     0.70202,     0.70241,      0.7024,     0.70369,     0.70432,     0.70469,     0.70507,     0.70545,     0.70582,      0.7062,     0.70677,     0.70738,     0.70798,     0.70873,     0.71003,     0.71134,     0.71266,     0.71476,     0.71341,     0.71376,\n",
              "            0.71412,     0.71448,     0.71484,      0.7152,     0.71556,     0.71615,     0.71682,      0.7175,     0.71807,     0.71843,      0.7188,     0.71916,     0.71952,     0.71989,     0.72025,     0.72111,     0.72198,     0.72533,     0.72671,       0.727,     0.72655,     0.72728,     0.72867,\n",
              "            0.73105,     0.73165,     0.73216,     0.73268,      0.7332,     0.73402,     0.73543,     0.73919,     0.74045,      0.7456,     0.74577,     0.74663,     0.74749,     0.74897,     0.74991,     0.74962,     0.74933,     0.74903,     0.74872,      0.7484,     0.75177,     0.75308,     0.75373,\n",
              "            0.75414,     0.75454,     0.75495,     0.75536,     0.75577,     0.75845,     0.75802,       0.758,     0.75846,     0.75893,      0.7594,     0.75987,     0.76034,     0.76102,     0.76175,     0.76247,     0.76234,     0.76289,     0.76343,     0.76398,     0.76453,     0.76575,     0.76751,\n",
              "             0.7672,     0.76689,     0.76723,     0.76793,     0.76863,     0.76932,     0.77268,     0.77328,     0.77387,     0.77447,     0.77531,     0.77797,      0.7794,     0.77973,     0.77946,     0.77919,     0.77935,     0.78081,     0.78226,     0.78372,     0.78744,     0.78715,     0.78686,\n",
              "             0.7869,      0.7871,     0.78729,     0.78749,     0.78769,     0.78789,     0.78809,     0.78829,     0.78848,     0.78868,     0.78888,     0.78908,     0.78928,     0.78948,     0.78965,     0.78925,     0.78903,     0.79075,     0.79516,     0.79618,     0.79719,      0.7981,     0.79887,\n",
              "            0.79964,      0.8004,     0.79989,      0.7997,     0.79951,     0.79931,     0.79874,      0.7984,     0.79829,     0.79818,     0.79807,     0.79795,     0.79784,     0.79773,     0.80115,      0.8016,     0.80205,      0.8025,     0.80295,      0.8034,     0.80388,     0.80694,     0.80675,\n",
              "            0.80656,     0.80637,     0.80631,     0.80711,     0.80792,     0.80872,     0.80971,     0.81133,     0.81265,      0.8132,     0.81374,     0.81429,     0.81483,     0.81537,     0.81589,     0.81636,     0.81683,      0.8173,     0.81777,     0.81824,     0.81871,     0.82099,     0.82114,\n",
              "            0.82181,     0.82248,     0.82315,     0.82383,     0.82484,     0.82597,      0.8271,     0.82824,     0.82938,     0.83052,     0.83108,     0.83158,     0.83207,     0.83256,     0.83305,     0.83355,     0.83422,      0.8377,     0.84009,     0.83999,     0.84355,     0.84714,     0.84987,\n",
              "            0.84933,     0.84917,     0.84901,     0.84885,     0.84852,     0.84802,      0.8478,     0.84758,     0.84768,     0.84821,     0.84874,     0.84927,      0.8498,     0.85032,     0.85085,     0.85097,      0.8508,     0.85064,     0.85048,     0.85027,     0.85006,     0.84984,     0.84888,\n",
              "            0.84855,     0.84838,     0.84826,     0.84814,     0.84802,     0.84789,     0.85123,     0.85271,     0.85511,     0.85608,     0.85705,     0.85802,     0.85817,     0.85882,     0.85948,     0.86013,     0.86079,     0.86144,     0.86456,     0.86701,     0.86901,     0.86912,     0.86882,\n",
              "            0.86825,     0.86763,     0.86833,     0.86914,     0.86996,     0.87078,     0.87154,     0.87114,     0.87079,     0.87049,     0.86903,     0.86882,     0.86861,      0.8681,     0.87189,     0.87168,     0.87147,     0.87483,     0.87549,     0.87535,     0.87521,     0.87508,     0.87487,\n",
              "            0.87456,     0.88074,     0.88285,     0.88271,     0.88256,     0.88241,     0.88082,     0.88049,     0.88031,     0.88014,     0.88095,     0.88496,     0.88725,     0.88886,     0.88874,     0.88862,     0.88851,     0.88839,     0.89413,     0.89725,     0.89693,     0.89673,     0.89655,\n",
              "            0.89636,     0.89609,     0.90095,     0.90522,     0.90488,     0.90442,     0.90421,     0.90415,     0.90409,     0.90403,     0.90397,      0.9039,     0.90384,     0.90378,     0.90377,      0.9052,     0.90663,     0.90806,     0.91055,     0.91304,      0.9128,     0.91255,     0.91222,\n",
              "            0.91201,     0.91189,     0.91176,     0.91164,     0.91137,     0.91173,     0.91433,     0.91613,     0.91589,      0.9157,      0.9156,      0.9155,     0.91541,     0.91531,      0.9157,     0.91666,     0.91763,      0.9186,     0.91957,     0.92044,     0.92031,     0.92018,     0.92004,\n",
              "            0.91898,     0.91884,     0.91871,     0.91854,      0.9183,     0.91831,     0.92204,     0.92349,     0.92452,     0.92555,     0.92658,     0.92761,       0.928,     0.92771,     0.92763,     0.92755,     0.92746,     0.92738,      0.9273,     0.92708,     0.92634,      0.9261,     0.92585,\n",
              "            0.92554,     0.92678,     0.92847,     0.93016,     0.93268,     0.93669,     0.93692,     0.93672,     0.93645,     0.93617,     0.93506,     0.93484,     0.94009,     0.94138,     0.94267,     0.94397,     0.94526,     0.94713,      0.9515,     0.95222,     0.95204,       0.952,     0.95196,\n",
              "            0.95192,     0.95188,     0.95185,     0.95181,     0.95177,     0.95173,     0.95116,     0.95093,     0.95069,     0.95046,     0.94989,     0.94971,     0.94912,     0.94849,     0.94823,     0.94678,      0.9465,     0.94622,     0.94809,      0.9506,     0.95311,      0.9534,     0.95329,\n",
              "            0.95319,     0.95302,     0.95276,      0.9549,     0.95751,     0.95999,     0.95977,     0.95961,      0.9595,     0.95939,     0.95887,     0.96606,     0.96587,     0.96507,     0.96486,     0.96464,     0.96875,     0.97267,      0.9725,     0.97233,     0.97215,     0.97197,     0.98065,\n",
              "            0.98052,     0.98039,     0.98032,     0.98026,     0.98018,     0.97978,     0.97964,     0.97929,      0.9805,     0.98754,     0.98919,     0.98911,     0.98903,     0.98894,     0.98862,     0.98856,     0.98851,     0.98829,     0.98805,     0.98795,     0.98774,     0.98768,     0.98763,\n",
              "            0.98757,     0.98752,     0.98691,      0.9868,     0.98674,     0.98668,     0.98664,      0.9866,     0.98657,     0.98653,     0.98649,     0.98638,     0.98625,     0.98612,     0.98593,     0.98579,     0.98562,     0.98547,     0.98538,     0.98507,     0.98501,     0.98496,      0.9849,\n",
              "            0.98481,     0.98411,       0.984,      0.9839,     0.98374,     0.98326,     0.98239,     0.98218,      0.9817,     0.98157,           1,           1,           1,           1,           1,           1,           1,           1,           1,           1,           1,           1,           1,\n",
              "                  1,           1,           1,           1,           1,           1,           1,           1,           1,           1,           1,           1,           1,           1,           1,           1,           1,           1,           1,           1,           1,           1,           1,\n",
              "                  1,           1,           1,           1,           1,           1,           1,           1,           1,           1,           1,           1,           1,           1,           1,           1,           1,           1,           1,           1,           1,           1,           1,\n",
              "                  1,           1,           1,           1,           1,           1,           1,           1,           1,           1,           1,           1,           1,           1,           1,           1,           1,           1,           1,           1,           1,           1,           1,\n",
              "                  1,           1,           1,           1,           1,           1,           1,           1,           1,           1,           1,           1,           1,           1,           1,           1,           1,           1,           1,           1,           1,           1,           1,\n",
              "                  1,           1,           1,           1,           1,           1,           1,           1,           1,           1,           1,           1,           1,           1,           1,           1,           1,           1,           1,           1,           1,           1,           1,\n",
              "                  1,           1,           1,           1,           1,           1,           1,           1,           1,           1,           1,           1,           1,           1,           1,           1,           1,           1,           1,           1,           1,           1,           1,\n",
              "                  1,           1,           1,           1,           1,           1,           1,           1,           1,           1,           1,           1,           1,           1,           1,           1,           1,           1,           1,           1,           1,           1,           1,\n",
              "                  1,           1,           1,           1,           1,           1,           1,           1,           1,           1,           1]]), 'Confidence', 'Precision'], [array([          0,    0.001001,    0.002002,    0.003003,    0.004004,    0.005005,    0.006006,    0.007007,    0.008008,    0.009009,     0.01001,    0.011011,    0.012012,    0.013013,    0.014014,    0.015015,    0.016016,    0.017017,    0.018018,    0.019019,     0.02002,    0.021021,    0.022022,    0.023023,\n",
              "          0.024024,    0.025025,    0.026026,    0.027027,    0.028028,    0.029029,     0.03003,    0.031031,    0.032032,    0.033033,    0.034034,    0.035035,    0.036036,    0.037037,    0.038038,    0.039039,     0.04004,    0.041041,    0.042042,    0.043043,    0.044044,    0.045045,    0.046046,    0.047047,\n",
              "          0.048048,    0.049049,     0.05005,    0.051051,    0.052052,    0.053053,    0.054054,    0.055055,    0.056056,    0.057057,    0.058058,    0.059059,     0.06006,    0.061061,    0.062062,    0.063063,    0.064064,    0.065065,    0.066066,    0.067067,    0.068068,    0.069069,     0.07007,    0.071071,\n",
              "          0.072072,    0.073073,    0.074074,    0.075075,    0.076076,    0.077077,    0.078078,    0.079079,     0.08008,    0.081081,    0.082082,    0.083083,    0.084084,    0.085085,    0.086086,    0.087087,    0.088088,    0.089089,     0.09009,    0.091091,    0.092092,    0.093093,    0.094094,    0.095095,\n",
              "          0.096096,    0.097097,    0.098098,    0.099099,      0.1001,      0.1011,      0.1021,      0.1031,      0.1041,     0.10511,     0.10611,     0.10711,     0.10811,     0.10911,     0.11011,     0.11111,     0.11211,     0.11311,     0.11411,     0.11512,     0.11612,     0.11712,     0.11812,     0.11912,\n",
              "           0.12012,     0.12112,     0.12212,     0.12312,     0.12412,     0.12513,     0.12613,     0.12713,     0.12813,     0.12913,     0.13013,     0.13113,     0.13213,     0.13313,     0.13413,     0.13514,     0.13614,     0.13714,     0.13814,     0.13914,     0.14014,     0.14114,     0.14214,     0.14314,\n",
              "           0.14414,     0.14515,     0.14615,     0.14715,     0.14815,     0.14915,     0.15015,     0.15115,     0.15215,     0.15315,     0.15415,     0.15516,     0.15616,     0.15716,     0.15816,     0.15916,     0.16016,     0.16116,     0.16216,     0.16316,     0.16416,     0.16517,     0.16617,     0.16717,\n",
              "           0.16817,     0.16917,     0.17017,     0.17117,     0.17217,     0.17317,     0.17417,     0.17518,     0.17618,     0.17718,     0.17818,     0.17918,     0.18018,     0.18118,     0.18218,     0.18318,     0.18418,     0.18519,     0.18619,     0.18719,     0.18819,     0.18919,     0.19019,     0.19119,\n",
              "           0.19219,     0.19319,     0.19419,      0.1952,      0.1962,      0.1972,      0.1982,      0.1992,      0.2002,      0.2012,      0.2022,      0.2032,      0.2042,     0.20521,     0.20621,     0.20721,     0.20821,     0.20921,     0.21021,     0.21121,     0.21221,     0.21321,     0.21421,     0.21522,\n",
              "           0.21622,     0.21722,     0.21822,     0.21922,     0.22022,     0.22122,     0.22222,     0.22322,     0.22422,     0.22523,     0.22623,     0.22723,     0.22823,     0.22923,     0.23023,     0.23123,     0.23223,     0.23323,     0.23423,     0.23524,     0.23624,     0.23724,     0.23824,     0.23924,\n",
              "           0.24024,     0.24124,     0.24224,     0.24324,     0.24424,     0.24525,     0.24625,     0.24725,     0.24825,     0.24925,     0.25025,     0.25125,     0.25225,     0.25325,     0.25425,     0.25526,     0.25626,     0.25726,     0.25826,     0.25926,     0.26026,     0.26126,     0.26226,     0.26326,\n",
              "           0.26426,     0.26527,     0.26627,     0.26727,     0.26827,     0.26927,     0.27027,     0.27127,     0.27227,     0.27327,     0.27427,     0.27528,     0.27628,     0.27728,     0.27828,     0.27928,     0.28028,     0.28128,     0.28228,     0.28328,     0.28428,     0.28529,     0.28629,     0.28729,\n",
              "           0.28829,     0.28929,     0.29029,     0.29129,     0.29229,     0.29329,     0.29429,      0.2953,      0.2963,      0.2973,      0.2983,      0.2993,      0.3003,      0.3013,      0.3023,      0.3033,      0.3043,     0.30531,     0.30631,     0.30731,     0.30831,     0.30931,     0.31031,     0.31131,\n",
              "           0.31231,     0.31331,     0.31431,     0.31532,     0.31632,     0.31732,     0.31832,     0.31932,     0.32032,     0.32132,     0.32232,     0.32332,     0.32432,     0.32533,     0.32633,     0.32733,     0.32833,     0.32933,     0.33033,     0.33133,     0.33233,     0.33333,     0.33433,     0.33534,\n",
              "           0.33634,     0.33734,     0.33834,     0.33934,     0.34034,     0.34134,     0.34234,     0.34334,     0.34434,     0.34535,     0.34635,     0.34735,     0.34835,     0.34935,     0.35035,     0.35135,     0.35235,     0.35335,     0.35435,     0.35536,     0.35636,     0.35736,     0.35836,     0.35936,\n",
              "           0.36036,     0.36136,     0.36236,     0.36336,     0.36436,     0.36537,     0.36637,     0.36737,     0.36837,     0.36937,     0.37037,     0.37137,     0.37237,     0.37337,     0.37437,     0.37538,     0.37638,     0.37738,     0.37838,     0.37938,     0.38038,     0.38138,     0.38238,     0.38338,\n",
              "           0.38438,     0.38539,     0.38639,     0.38739,     0.38839,     0.38939,     0.39039,     0.39139,     0.39239,     0.39339,     0.39439,      0.3954,      0.3964,      0.3974,      0.3984,      0.3994,      0.4004,      0.4014,      0.4024,      0.4034,      0.4044,     0.40541,     0.40641,     0.40741,\n",
              "           0.40841,     0.40941,     0.41041,     0.41141,     0.41241,     0.41341,     0.41441,     0.41542,     0.41642,     0.41742,     0.41842,     0.41942,     0.42042,     0.42142,     0.42242,     0.42342,     0.42442,     0.42543,     0.42643,     0.42743,     0.42843,     0.42943,     0.43043,     0.43143,\n",
              "           0.43243,     0.43343,     0.43443,     0.43544,     0.43644,     0.43744,     0.43844,     0.43944,     0.44044,     0.44144,     0.44244,     0.44344,     0.44444,     0.44545,     0.44645,     0.44745,     0.44845,     0.44945,     0.45045,     0.45145,     0.45245,     0.45345,     0.45445,     0.45546,\n",
              "           0.45646,     0.45746,     0.45846,     0.45946,     0.46046,     0.46146,     0.46246,     0.46346,     0.46446,     0.46547,     0.46647,     0.46747,     0.46847,     0.46947,     0.47047,     0.47147,     0.47247,     0.47347,     0.47447,     0.47548,     0.47648,     0.47748,     0.47848,     0.47948,\n",
              "           0.48048,     0.48148,     0.48248,     0.48348,     0.48448,     0.48549,     0.48649,     0.48749,     0.48849,     0.48949,     0.49049,     0.49149,     0.49249,     0.49349,     0.49449,      0.4955,      0.4965,      0.4975,      0.4985,      0.4995,      0.5005,      0.5015,      0.5025,      0.5035,\n",
              "            0.5045,     0.50551,     0.50651,     0.50751,     0.50851,     0.50951,     0.51051,     0.51151,     0.51251,     0.51351,     0.51451,     0.51552,     0.51652,     0.51752,     0.51852,     0.51952,     0.52052,     0.52152,     0.52252,     0.52352,     0.52452,     0.52553,     0.52653,     0.52753,\n",
              "           0.52853,     0.52953,     0.53053,     0.53153,     0.53253,     0.53353,     0.53453,     0.53554,     0.53654,     0.53754,     0.53854,     0.53954,     0.54054,     0.54154,     0.54254,     0.54354,     0.54454,     0.54555,     0.54655,     0.54755,     0.54855,     0.54955,     0.55055,     0.55155,\n",
              "           0.55255,     0.55355,     0.55455,     0.55556,     0.55656,     0.55756,     0.55856,     0.55956,     0.56056,     0.56156,     0.56256,     0.56356,     0.56456,     0.56557,     0.56657,     0.56757,     0.56857,     0.56957,     0.57057,     0.57157,     0.57257,     0.57357,     0.57457,     0.57558,\n",
              "           0.57658,     0.57758,     0.57858,     0.57958,     0.58058,     0.58158,     0.58258,     0.58358,     0.58458,     0.58559,     0.58659,     0.58759,     0.58859,     0.58959,     0.59059,     0.59159,     0.59259,     0.59359,     0.59459,      0.5956,      0.5966,      0.5976,      0.5986,      0.5996,\n",
              "            0.6006,      0.6016,      0.6026,      0.6036,      0.6046,     0.60561,     0.60661,     0.60761,     0.60861,     0.60961,     0.61061,     0.61161,     0.61261,     0.61361,     0.61461,     0.61562,     0.61662,     0.61762,     0.61862,     0.61962,     0.62062,     0.62162,     0.62262,     0.62362,\n",
              "           0.62462,     0.62563,     0.62663,     0.62763,     0.62863,     0.62963,     0.63063,     0.63163,     0.63263,     0.63363,     0.63463,     0.63564,     0.63664,     0.63764,     0.63864,     0.63964,     0.64064,     0.64164,     0.64264,     0.64364,     0.64464,     0.64565,     0.64665,     0.64765,\n",
              "           0.64865,     0.64965,     0.65065,     0.65165,     0.65265,     0.65365,     0.65465,     0.65566,     0.65666,     0.65766,     0.65866,     0.65966,     0.66066,     0.66166,     0.66266,     0.66366,     0.66466,     0.66567,     0.66667,     0.66767,     0.66867,     0.66967,     0.67067,     0.67167,\n",
              "           0.67267,     0.67367,     0.67467,     0.67568,     0.67668,     0.67768,     0.67868,     0.67968,     0.68068,     0.68168,     0.68268,     0.68368,     0.68468,     0.68569,     0.68669,     0.68769,     0.68869,     0.68969,     0.69069,     0.69169,     0.69269,     0.69369,     0.69469,      0.6957,\n",
              "            0.6967,      0.6977,      0.6987,      0.6997,      0.7007,      0.7017,      0.7027,      0.7037,      0.7047,     0.70571,     0.70671,     0.70771,     0.70871,     0.70971,     0.71071,     0.71171,     0.71271,     0.71371,     0.71471,     0.71572,     0.71672,     0.71772,     0.71872,     0.71972,\n",
              "           0.72072,     0.72172,     0.72272,     0.72372,     0.72472,     0.72573,     0.72673,     0.72773,     0.72873,     0.72973,     0.73073,     0.73173,     0.73273,     0.73373,     0.73473,     0.73574,     0.73674,     0.73774,     0.73874,     0.73974,     0.74074,     0.74174,     0.74274,     0.74374,\n",
              "           0.74474,     0.74575,     0.74675,     0.74775,     0.74875,     0.74975,     0.75075,     0.75175,     0.75275,     0.75375,     0.75475,     0.75576,     0.75676,     0.75776,     0.75876,     0.75976,     0.76076,     0.76176,     0.76276,     0.76376,     0.76476,     0.76577,     0.76677,     0.76777,\n",
              "           0.76877,     0.76977,     0.77077,     0.77177,     0.77277,     0.77377,     0.77477,     0.77578,     0.77678,     0.77778,     0.77878,     0.77978,     0.78078,     0.78178,     0.78278,     0.78378,     0.78478,     0.78579,     0.78679,     0.78779,     0.78879,     0.78979,     0.79079,     0.79179,\n",
              "           0.79279,     0.79379,     0.79479,      0.7958,      0.7968,      0.7978,      0.7988,      0.7998,      0.8008,      0.8018,      0.8028,      0.8038,      0.8048,     0.80581,     0.80681,     0.80781,     0.80881,     0.80981,     0.81081,     0.81181,     0.81281,     0.81381,     0.81481,     0.81582,\n",
              "           0.81682,     0.81782,     0.81882,     0.81982,     0.82082,     0.82182,     0.82282,     0.82382,     0.82482,     0.82583,     0.82683,     0.82783,     0.82883,     0.82983,     0.83083,     0.83183,     0.83283,     0.83383,     0.83483,     0.83584,     0.83684,     0.83784,     0.83884,     0.83984,\n",
              "           0.84084,     0.84184,     0.84284,     0.84384,     0.84484,     0.84585,     0.84685,     0.84785,     0.84885,     0.84985,     0.85085,     0.85185,     0.85285,     0.85385,     0.85485,     0.85586,     0.85686,     0.85786,     0.85886,     0.85986,     0.86086,     0.86186,     0.86286,     0.86386,\n",
              "           0.86486,     0.86587,     0.86687,     0.86787,     0.86887,     0.86987,     0.87087,     0.87187,     0.87287,     0.87387,     0.87487,     0.87588,     0.87688,     0.87788,     0.87888,     0.87988,     0.88088,     0.88188,     0.88288,     0.88388,     0.88488,     0.88589,     0.88689,     0.88789,\n",
              "           0.88889,     0.88989,     0.89089,     0.89189,     0.89289,     0.89389,     0.89489,      0.8959,      0.8969,      0.8979,      0.8989,      0.8999,      0.9009,      0.9019,      0.9029,      0.9039,      0.9049,     0.90591,     0.90691,     0.90791,     0.90891,     0.90991,     0.91091,     0.91191,\n",
              "           0.91291,     0.91391,     0.91491,     0.91592,     0.91692,     0.91792,     0.91892,     0.91992,     0.92092,     0.92192,     0.92292,     0.92392,     0.92492,     0.92593,     0.92693,     0.92793,     0.92893,     0.92993,     0.93093,     0.93193,     0.93293,     0.93393,     0.93493,     0.93594,\n",
              "           0.93694,     0.93794,     0.93894,     0.93994,     0.94094,     0.94194,     0.94294,     0.94394,     0.94494,     0.94595,     0.94695,     0.94795,     0.94895,     0.94995,     0.95095,     0.95195,     0.95295,     0.95395,     0.95495,     0.95596,     0.95696,     0.95796,     0.95896,     0.95996,\n",
              "           0.96096,     0.96196,     0.96296,     0.96396,     0.96496,     0.96597,     0.96697,     0.96797,     0.96897,     0.96997,     0.97097,     0.97197,     0.97297,     0.97397,     0.97497,     0.97598,     0.97698,     0.97798,     0.97898,     0.97998,     0.98098,     0.98198,     0.98298,     0.98398,\n",
              "           0.98498,     0.98599,     0.98699,     0.98799,     0.98899,     0.98999,     0.99099,     0.99199,     0.99299,     0.99399,     0.99499,       0.996,       0.997,       0.998,       0.999,           1]), array([[    0.91693,     0.91693,     0.91054,     0.91054,     0.89776,     0.89776,     0.89457,     0.89457,     0.89407,     0.89137,     0.89137,     0.89137,     0.88818,     0.88498,     0.88179,     0.88179,     0.87859,     0.87859,     0.87859,      0.8722,     0.86901,     0.86901,     0.86581,\n",
              "            0.86581,     0.86581,     0.86581,     0.86581,     0.86581,     0.86581,     0.86262,     0.86262,     0.86262,     0.86262,     0.86262,     0.86262,     0.86262,     0.86262,     0.86262,     0.86262,     0.86262,     0.86262,     0.86262,     0.86262,     0.86262,     0.86262,     0.86262,\n",
              "            0.86262,     0.86262,     0.86262,     0.86262,     0.86262,     0.86262,     0.85942,     0.85623,     0.85623,     0.85623,     0.85623,     0.85623,     0.85623,     0.85304,     0.84984,     0.84984,     0.84984,     0.84984,     0.84984,     0.84984,     0.84984,     0.84984,     0.84984,\n",
              "            0.84665,     0.84665,     0.84665,     0.84665,     0.84665,     0.84665,     0.84345,     0.84345,     0.84345,     0.84345,     0.84345,     0.84345,     0.84026,     0.84026,     0.84026,     0.84026,     0.84026,     0.83843,     0.83649,     0.83387,     0.83387,     0.83387,     0.83387,\n",
              "              0.832,     0.83067,     0.83067,     0.83067,     0.83067,     0.83067,      0.8298,     0.82753,     0.82428,     0.82428,     0.82428,     0.82428,     0.82128,     0.82109,     0.82109,     0.81789,     0.81789,     0.81329,     0.80831,     0.80831,     0.80831,     0.80831,     0.80831,\n",
              "            0.80831,       0.807,     0.79986,     0.79872,     0.79872,     0.79553,     0.79553,     0.79553,     0.79553,     0.79553,     0.79553,     0.79553,     0.79553,     0.79553,     0.79553,     0.79553,     0.79553,     0.79376,     0.79233,     0.79233,     0.79233,     0.79233,     0.79233,\n",
              "             0.7919,     0.78972,     0.78914,     0.78914,     0.78914,     0.78914,     0.78914,     0.78594,     0.78594,     0.78594,     0.78594,     0.78594,     0.78594,     0.78594,     0.78594,     0.78594,     0.78594,     0.78594,     0.78594,     0.78594,     0.78594,     0.78594,     0.78594,\n",
              "            0.78594,     0.78594,     0.78594,     0.78594,     0.78594,     0.78594,     0.78594,     0.78594,     0.78594,     0.78594,     0.78594,     0.78594,     0.78594,     0.77955,     0.77955,     0.77955,     0.77955,     0.77955,     0.77955,     0.77955,     0.77955,     0.77955,     0.77955,\n",
              "            0.77955,     0.77955,     0.77955,     0.77955,     0.77955,     0.77955,     0.77889,     0.77636,     0.77636,     0.77636,     0.77636,     0.77636,     0.77636,     0.77636,     0.77636,     0.77636,     0.77636,     0.77636,     0.77636,     0.77636,     0.77513,     0.77316,     0.77316,\n",
              "            0.77316,     0.77316,     0.77316,     0.77316,     0.77316,     0.77316,     0.77316,     0.77316,     0.77199,     0.76957,     0.76695,     0.76677,     0.76677,     0.76677,     0.76616,     0.76497,     0.76378,     0.76358,     0.76358,     0.76358,     0.76358,     0.76358,     0.76358,\n",
              "            0.76038,     0.76038,     0.76038,     0.76038,     0.76038,     0.75913,     0.75768,     0.75719,     0.75719,     0.75461,     0.75399,     0.75399,     0.75399,     0.75399,     0.75399,     0.75399,     0.75399,     0.75399,     0.75399,     0.75399,     0.75399,     0.75399,     0.75399,\n",
              "            0.75399,     0.75399,     0.75399,     0.75399,     0.75399,     0.75399,     0.75399,     0.75399,     0.75399,     0.75399,     0.75399,     0.75399,     0.75343,      0.7508,      0.7508,      0.7476,      0.7476,      0.7476,      0.7476,      0.7476,      0.7476,      0.7476,      0.7476,\n",
              "            0.74441,     0.74441,     0.74441,     0.74441,     0.74441,     0.74441,     0.74441,     0.74441,      0.7433,     0.74143,     0.74077,     0.74026,     0.73976,     0.73926,     0.73875,     0.73825,     0.73802,     0.73802,     0.73802,     0.73802,     0.73802,     0.73802,     0.73802,\n",
              "            0.73802,     0.73802,     0.73802,     0.73802,     0.73802,     0.73802,     0.73802,     0.73482,     0.73482,     0.73482,     0.73482,     0.73482,     0.73482,     0.73335,     0.73163,     0.72843,     0.72843,     0.72843,     0.72843,     0.72843,     0.72524,     0.72524,     0.72524,\n",
              "            0.72524,     0.72524,     0.72524,     0.72524,     0.72394,     0.72204,     0.72204,     0.72204,     0.72204,     0.72204,     0.72204,     0.72204,     0.72204,     0.72204,     0.72204,     0.72204,     0.72204,     0.72204,     0.72204,     0.72204,     0.72204,     0.71565,     0.71565,\n",
              "            0.71565,     0.71565,     0.71565,     0.71565,     0.71565,     0.71565,     0.71565,     0.71565,     0.71565,     0.71565,     0.71565,     0.71565,     0.71565,     0.71565,     0.71565,     0.71565,     0.71565,     0.71565,     0.71565,     0.71468,     0.71304,     0.71246,     0.71246,\n",
              "            0.71246,     0.71246,     0.71246,     0.71246,     0.71246,     0.71246,     0.71246,     0.71246,     0.71246,     0.71246,     0.70927,     0.70927,     0.70927,     0.70927,     0.70894,     0.70784,     0.70675,     0.70562,     0.70443,     0.70324,     0.70288,     0.70288,     0.70288,\n",
              "            0.70288,     0.70288,     0.70288,     0.70288,     0.70288,     0.70222,     0.70058,     0.69968,     0.69968,     0.69968,     0.69968,     0.69968,     0.69968,     0.69968,     0.69968,     0.69968,     0.69649,     0.69649,     0.69649,     0.69649,     0.69649,     0.69649,      0.6961,\n",
              "            0.69491,     0.69371,     0.69329,     0.69329,     0.69329,     0.69329,     0.69329,     0.69329,     0.69329,     0.69329,     0.69329,     0.69329,     0.69329,      0.6899,     0.68881,     0.68771,      0.6869,      0.6869,      0.6869,      0.6869,     0.68648,     0.68529,      0.6841,\n",
              "            0.68371,     0.68371,     0.68371,     0.68371,     0.68371,     0.68371,     0.68371,     0.68371,     0.68371,     0.68371,     0.68371,     0.68371,     0.68371,     0.68371,     0.68365,     0.68201,     0.68051,     0.68051,     0.68051,     0.68051,     0.68051,     0.68051,     0.68051,\n",
              "            0.68051,     0.68051,     0.67687,     0.67605,     0.67523,     0.67441,     0.67201,     0.67061,     0.67015,     0.66968,     0.66921,     0.66874,     0.66827,     0.66781,     0.66773,     0.66773,     0.66773,     0.66773,     0.66773,     0.66773,     0.66773,      0.6677,     0.66688,\n",
              "            0.66606,     0.66525,     0.66454,     0.66454,     0.66454,     0.66454,     0.66454,     0.66454,     0.66454,     0.66454,     0.66454,     0.66454,     0.66454,     0.66454,     0.66454,     0.66454,     0.66454,     0.66454,     0.66454,     0.66454,     0.66454,     0.65938,     0.65815,\n",
              "            0.65815,     0.65815,     0.65815,     0.65815,     0.65815,     0.65815,     0.65815,     0.65815,     0.65815,     0.65815,     0.65815,     0.65815,     0.65815,     0.65815,     0.65815,     0.65815,     0.65815,     0.65815,     0.65459,     0.65176,     0.65176,     0.65176,     0.65108,\n",
              "            0.64837,     0.64755,     0.64673,     0.64592,     0.64429,     0.64179,     0.64069,      0.6396,     0.63898,     0.63898,     0.63898,     0.63898,     0.63898,     0.63898,     0.63898,     0.63849,     0.63767,     0.63685,     0.63603,     0.63502,     0.63393,     0.63284,     0.62813,\n",
              "             0.6265,     0.62571,     0.62512,     0.62452,     0.62392,     0.62333,     0.62152,     0.61981,     0.61981,     0.61981,     0.61981,     0.61981,     0.61661,     0.61661,     0.61661,     0.61661,     0.61661,     0.61661,     0.61661,     0.61661,     0.61661,     0.61527,     0.61364,\n",
              "            0.61058,      0.6073,     0.60703,     0.60703,     0.60703,     0.60703,     0.60694,     0.60476,     0.60289,     0.60125,     0.59357,     0.59248,     0.59138,     0.58877,     0.58707,     0.58598,     0.58489,     0.58466,     0.58407,     0.58334,     0.58261,     0.58189,     0.58077,\n",
              "            0.57913,     0.57827,     0.57786,     0.57704,     0.57623,     0.57541,     0.56672,     0.56491,     0.56398,     0.56304,      0.5623,      0.5623,      0.5623,     0.56211,     0.56146,      0.5608,     0.56015,     0.55949,     0.55911,     0.55911,     0.55602,     0.55486,     0.55376,\n",
              "            0.55265,     0.55101,     0.54952,     0.54927,     0.54709,      0.5442,     0.54287,     0.54249,      0.5421,     0.54172,     0.54133,     0.54095,     0.54056,     0.54017,     0.53674,     0.53674,     0.53674,     0.53674,     0.53674,     0.53672,     0.53508,     0.53341,     0.53122,\n",
              "            0.52986,     0.52904,     0.52822,      0.5274,     0.52563,     0.52396,     0.52396,      0.5235,     0.52186,     0.52055,     0.51989,     0.51924,     0.51858,     0.51793,     0.51757,     0.51757,     0.51757,     0.51757,     0.51757,     0.51749,     0.51655,     0.51562,     0.51468,\n",
              "            0.50736,     0.50642,     0.50548,     0.50437,     0.50273,     0.49521,     0.49521,     0.49521,     0.49521,     0.49521,     0.49521,     0.49521,     0.49416,       0.492,     0.49141,     0.49081,     0.49022,     0.48962,     0.48903,      0.4874,     0.48212,     0.48048,     0.47872,\n",
              "            0.47653,     0.47604,     0.47604,     0.47604,     0.47604,     0.47604,     0.47457,     0.47294,     0.47078,      0.4686,     0.46004,      0.4584,     0.45048,     0.45048,     0.45048,     0.45048,     0.45048,     0.45048,     0.45048,      0.4457,     0.44399,      0.4436,     0.44322,\n",
              "            0.44283,     0.44245,     0.44206,     0.44168,     0.44129,     0.44091,     0.43558,      0.4334,     0.43122,     0.42903,     0.42397,     0.42234,     0.41716,     0.41178,      0.4096,     0.39783,     0.39565,     0.39346,     0.39297,     0.39297,     0.39297,     0.39218,     0.39124,\n",
              "            0.39031,     0.38883,     0.38665,     0.38339,     0.38339,     0.38329,     0.38111,     0.37956,     0.37847,     0.37738,     0.37238,      0.3638,     0.36162,     0.35305,     0.35087,     0.34868,     0.34185,     0.34112,     0.33894,     0.33675,     0.33457,     0.33239,     0.32381,\n",
              "            0.32163,     0.31947,     0.31838,     0.31729,     0.31599,     0.30965,     0.30747,     0.30209,     0.30032,     0.30032,     0.29234,     0.29016,     0.28798,     0.28579,     0.27752,     0.27621,      0.2749,     0.26961,     0.26423,     0.26205,     0.25752,     0.25621,     0.25501,\n",
              "            0.25392,     0.25283,     0.24083,     0.23893,     0.23784,     0.23675,     0.23596,     0.23531,     0.23465,       0.234,     0.23334,     0.23143,     0.22924,     0.22706,      0.2239,     0.22163,     0.21895,     0.21662,     0.21531,     0.21083,     0.21001,     0.20919,     0.20837,\n",
              "             0.2072,     0.19787,     0.19656,     0.19525,      0.1933,     0.18763,     0.17828,      0.1761,     0.17144,     0.17013,     0.16807,      0.1616,     0.15279,     0.15148,     0.15017,     0.14886,     0.14755,     0.14514,     0.14323,     0.14229,     0.14135,     0.14003,     0.13696,\n",
              "            0.13478,      0.1298,     0.12816,     0.12525,     0.12427,     0.12386,     0.12345,     0.12304,     0.12264,     0.12223,     0.12182,     0.12141,     0.12032,     0.11923,     0.11479,     0.10847,     0.10684,     0.10512,     0.10294,     0.10001,    0.097889,    0.096252,    0.090188,\n",
              "           0.088185,    0.086547,    0.077168,    0.070698,    0.065661,    0.064023,    0.056752,    0.055933,    0.055115,    0.047786,    0.041243,    0.040697,    0.040151,    0.039605,    0.039059,    0.038513,    0.036855,    0.034986,    0.034259,    0.033531,    0.032803,    0.032075,    0.028469,\n",
              "           0.028124,     0.02778,    0.027435,     0.02709,    0.026746,    0.026401,    0.026056,    0.025711,    0.025356,    0.024992,    0.024628,    0.024264,    0.023901,    0.023537,    0.023173,    0.022809,    0.022445,    0.022168,    0.021916,    0.021664,    0.021413,    0.021161,    0.020909,\n",
              "           0.020657,    0.020405,    0.020153,    0.019901,    0.019649,    0.019397,    0.019117,    0.018572,    0.018026,     0.01748,    0.016934,    0.016388,    0.015891,    0.015546,    0.015202,    0.014857,    0.014512,    0.014168,    0.013823,    0.013478,    0.013133,    0.012789,    0.012248,\n",
              "           0.011702,    0.011157,    0.010611,    0.010065,   0.0095355,   0.0091261,   0.0087168,   0.0083074,   0.0078981,   0.0074887,   0.0070794,     0.00667,   0.0063615,   0.0062718,    0.006182,   0.0060923,   0.0060026,   0.0059129,   0.0058231,   0.0057334,   0.0056437,    0.005554,   0.0054643,\n",
              "          0.0053745,   0.0052848,   0.0051951,   0.0051054,   0.0050157,   0.0049259,   0.0048362,   0.0047465,   0.0046568,    0.004567,   0.0044773,   0.0043876,   0.0042979,   0.0042082,   0.0041184,   0.0040287,    0.003939,   0.0038493,   0.0037595,   0.0036698,   0.0035801,   0.0034904,   0.0034007,\n",
              "          0.0033109,   0.0032212,           0,           0,           0,           0,           0,           0,           0,           0,           0,           0,           0,           0,           0,           0,           0,           0,           0,           0,           0,           0,           0,\n",
              "                  0,           0,           0,           0,           0,           0,           0,           0,           0,           0,           0]]), 'Confidence', 'Recall']]\n",
              "fitness: np.float64(0.46097065653616903)\n",
              "keys: ['metrics/precision(B)', 'metrics/recall(B)', 'metrics/mAP50(B)', 'metrics/mAP50-95(B)']\n",
              "maps: array([    0.42729])\n",
              "names: {0: 'cop'}\n",
              "plot: True\n",
              "results_dict: {'metrics/precision(B)': np.float64(0.8065593877976028), 'metrics/recall(B)': np.float64(0.6660646269272468), 'metrics/mAP50(B)': np.float64(0.7640774586339112), 'metrics/mAP50-95(B)': np.float64(0.4272921229697532), 'fitness': np.float64(0.46097065653616903)}\n",
              "save_dir: PosixPath('runs/detect/train10')\n",
              "speed: {'preprocess': 0.1439788625134497, 'inference': 45.43935683750533, 'loss': 0.0005084625058771053, 'postprocess': 2.649530600001526}\n",
              "task: 'detect'"
            ]
          },
          "metadata": {},
          "execution_count": 20
        }
      ]
    }
  ]
}